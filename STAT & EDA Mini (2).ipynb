{
 "cells": [
  {
   "cell_type": "markdown",
   "id": "32f35631",
   "metadata": {},
   "source": [
    "# EDA"
   ]
  },
  {
   "cell_type": "markdown",
   "id": "d170d6fb",
   "metadata": {},
   "source": [
    "Company X manages the men's top professional basketball division\n",
    "of the American league system.The dataset contains information on all the teams\n",
    "that have participated in all the past tournaments. It has data about how many\n",
    "baskets each team scored, conceded, how many times they came within the first\n",
    "2 positions,how many tournaments they have qualified, their best position in the\n",
    "past, etc."
   ]
  },
  {
   "cell_type": "markdown",
   "id": "6d0affb4",
   "metadata": {},
   "source": [
    "• ATTRIBUTE INFORMATION:\n",
    "1. Team: Team’s name\n",
    "2. Tournament: Number of played tournaments.\n",
    "3. Score: Team’s score so far.\n",
    "4. PlayedGames: Games played by the team so far.\n",
    "5. WonGames: Games won by the team so far.\n",
    "6. DrawnGames: Games drawn by the team so far.\n",
    "7. LostGames: Games lost by the team so far.\n",
    "8. BasketScored: Basket scored by the team so far.\n",
    "9. BasketGiven: Basket scored against the team so far.\n",
    "10. TournamentChampion: How many times the team was a champion of the\n",
    "tournaments so far.\n",
    "11. Runner-up: How many times the team was a runners-up of the tournaments\n",
    "so far.\n",
    "12. TeamLaunch: Year the team was launched on professional basketball.\n",
    "13. HighestPositionHeld: Highest position held by the team amongst all the\n",
    "tournaments played."
   ]
  },
  {
   "cell_type": "markdown",
   "id": "d239665f",
   "metadata": {},
   "source": [
    "• PROJECT OBJECTIVE: Company’s management wants to invest on proposals\n",
    "on managing some of the best teams in the league. The analytics department\n",
    "has been assigned with a task of creating a report on the performance shown by\n",
    "6\n",
    "the teams. Some of the older teams are already in contract with competitors.\n",
    "Hence Company X wants to understand which teams they can approach which\n",
    "will be a deal win for them."
   ]
  },
  {
   "cell_type": "markdown",
   "id": "821fcb11",
   "metadata": {},
   "source": [
    "Importing necessary libraries"
   ]
  },
  {
   "cell_type": "code",
   "execution_count": 1,
   "id": "832291ce",
   "metadata": {},
   "outputs": [],
   "source": [
    "import numpy as np\n",
    "import pandas as pd\n",
    "import matplotlib.pyplot as plt\n",
    "%matplotlib inline\n",
    "import seaborn as sns\n",
    "from warnings import filterwarnings\n",
    "filterwarnings('ignore')\n",
    "import statistics as st"
   ]
  },
  {
   "cell_type": "markdown",
   "id": "3b59eaab",
   "metadata": {},
   "source": [
    "Importing the datset"
   ]
  },
  {
   "cell_type": "code",
   "execution_count": 125,
   "id": "105d7a29",
   "metadata": {},
   "outputs": [],
   "source": [
    "#Load the Dataset\n",
    "df = pd.read_csv('C:\\\\Users\\\\wajid\\\\Downloads\\\\project 1 (4)\\\\project 1\\\\Basketball.csv')"
   ]
  },
  {
   "cell_type": "markdown",
   "id": "4e5b3649",
   "metadata": {},
   "source": [
    "Understanding the dataset"
   ]
  },
  {
   "cell_type": "code",
   "execution_count": 3,
   "id": "92597f6f",
   "metadata": {},
   "outputs": [
    {
     "data": {
      "text/html": [
       "<div>\n",
       "<style scoped>\n",
       "    .dataframe tbody tr th:only-of-type {\n",
       "        vertical-align: middle;\n",
       "    }\n",
       "\n",
       "    .dataframe tbody tr th {\n",
       "        vertical-align: top;\n",
       "    }\n",
       "\n",
       "    .dataframe thead th {\n",
       "        text-align: right;\n",
       "    }\n",
       "</style>\n",
       "<table border=\"1\" class=\"dataframe\">\n",
       "  <thead>\n",
       "    <tr style=\"text-align: right;\">\n",
       "      <th></th>\n",
       "      <th>Team</th>\n",
       "      <th>Tournament</th>\n",
       "      <th>Score</th>\n",
       "      <th>PlayedGames</th>\n",
       "      <th>WonGames</th>\n",
       "      <th>DrawnGames</th>\n",
       "      <th>LostGames</th>\n",
       "      <th>BasketScored</th>\n",
       "      <th>BasketGiven</th>\n",
       "      <th>TournamentChampion</th>\n",
       "      <th>Runner-up</th>\n",
       "      <th>TeamLaunch</th>\n",
       "      <th>HighestPositionHeld</th>\n",
       "    </tr>\n",
       "  </thead>\n",
       "  <tbody>\n",
       "    <tr>\n",
       "      <th>0</th>\n",
       "      <td>Team 1</td>\n",
       "      <td>86</td>\n",
       "      <td>4385</td>\n",
       "      <td>2762</td>\n",
       "      <td>1647</td>\n",
       "      <td>552</td>\n",
       "      <td>563</td>\n",
       "      <td>5947</td>\n",
       "      <td>3140</td>\n",
       "      <td>33</td>\n",
       "      <td>23</td>\n",
       "      <td>1929</td>\n",
       "      <td>1</td>\n",
       "    </tr>\n",
       "    <tr>\n",
       "      <th>1</th>\n",
       "      <td>Team 2</td>\n",
       "      <td>86</td>\n",
       "      <td>4262</td>\n",
       "      <td>2762</td>\n",
       "      <td>1581</td>\n",
       "      <td>573</td>\n",
       "      <td>608</td>\n",
       "      <td>5900</td>\n",
       "      <td>3114</td>\n",
       "      <td>25</td>\n",
       "      <td>25</td>\n",
       "      <td>1929</td>\n",
       "      <td>1</td>\n",
       "    </tr>\n",
       "    <tr>\n",
       "      <th>2</th>\n",
       "      <td>Team 3</td>\n",
       "      <td>80</td>\n",
       "      <td>3442</td>\n",
       "      <td>2614</td>\n",
       "      <td>1241</td>\n",
       "      <td>598</td>\n",
       "      <td>775</td>\n",
       "      <td>4534</td>\n",
       "      <td>3309</td>\n",
       "      <td>10</td>\n",
       "      <td>8</td>\n",
       "      <td>1929</td>\n",
       "      <td>1</td>\n",
       "    </tr>\n",
       "    <tr>\n",
       "      <th>3</th>\n",
       "      <td>Team 4</td>\n",
       "      <td>82</td>\n",
       "      <td>3386</td>\n",
       "      <td>2664</td>\n",
       "      <td>1187</td>\n",
       "      <td>616</td>\n",
       "      <td>861</td>\n",
       "      <td>4398</td>\n",
       "      <td>3469</td>\n",
       "      <td>6</td>\n",
       "      <td>6</td>\n",
       "      <td>1931to32</td>\n",
       "      <td>1</td>\n",
       "    </tr>\n",
       "    <tr>\n",
       "      <th>4</th>\n",
       "      <td>Team 5</td>\n",
       "      <td>86</td>\n",
       "      <td>3368</td>\n",
       "      <td>2762</td>\n",
       "      <td>1209</td>\n",
       "      <td>633</td>\n",
       "      <td>920</td>\n",
       "      <td>4631</td>\n",
       "      <td>3700</td>\n",
       "      <td>8</td>\n",
       "      <td>7</td>\n",
       "      <td>1929</td>\n",
       "      <td>1</td>\n",
       "    </tr>\n",
       "  </tbody>\n",
       "</table>\n",
       "</div>"
      ],
      "text/plain": [
       "     Team  Tournament Score PlayedGames WonGames DrawnGames LostGames  \\\n",
       "0  Team 1          86  4385        2762     1647        552       563   \n",
       "1  Team 2          86  4262        2762     1581        573       608   \n",
       "2  Team 3          80  3442        2614     1241        598       775   \n",
       "3  Team 4          82  3386        2664     1187        616       861   \n",
       "4  Team 5          86  3368        2762     1209        633       920   \n",
       "\n",
       "  BasketScored BasketGiven TournamentChampion Runner-up TeamLaunch  \\\n",
       "0         5947        3140                 33        23       1929   \n",
       "1         5900        3114                 25        25       1929   \n",
       "2         4534        3309                 10         8       1929   \n",
       "3         4398        3469                  6         6   1931to32   \n",
       "4         4631        3700                  8         7       1929   \n",
       "\n",
       "   HighestPositionHeld  \n",
       "0                    1  \n",
       "1                    1  \n",
       "2                    1  \n",
       "3                    1  \n",
       "4                    1  "
      ]
     },
     "execution_count": 3,
     "metadata": {},
     "output_type": "execute_result"
    }
   ],
   "source": [
    "# Check the head of the dataset\n",
    "df.head()"
   ]
  },
  {
   "cell_type": "code",
   "execution_count": 126,
   "id": "d24b5d89",
   "metadata": {},
   "outputs": [
    {
     "data": {
      "text/html": [
       "<div>\n",
       "<style scoped>\n",
       "    .dataframe tbody tr th:only-of-type {\n",
       "        vertical-align: middle;\n",
       "    }\n",
       "\n",
       "    .dataframe tbody tr th {\n",
       "        vertical-align: top;\n",
       "    }\n",
       "\n",
       "    .dataframe thead th {\n",
       "        text-align: right;\n",
       "    }\n",
       "</style>\n",
       "<table border=\"1\" class=\"dataframe\">\n",
       "  <thead>\n",
       "    <tr style=\"text-align: right;\">\n",
       "      <th></th>\n",
       "      <th>Team</th>\n",
       "      <th>Tournament</th>\n",
       "      <th>Score</th>\n",
       "      <th>PlayedGames</th>\n",
       "      <th>WonGames</th>\n",
       "      <th>DrawnGames</th>\n",
       "      <th>LostGames</th>\n",
       "      <th>BasketScored</th>\n",
       "      <th>BasketGiven</th>\n",
       "      <th>TournamentChampion</th>\n",
       "      <th>Runner-up</th>\n",
       "      <th>TeamLaunch</th>\n",
       "      <th>HighestPositionHeld</th>\n",
       "    </tr>\n",
       "  </thead>\n",
       "  <tbody>\n",
       "    <tr>\n",
       "      <th>56</th>\n",
       "      <td>Team 57</td>\n",
       "      <td>1</td>\n",
       "      <td>34</td>\n",
       "      <td>38</td>\n",
       "      <td>8</td>\n",
       "      <td>10</td>\n",
       "      <td>20</td>\n",
       "      <td>38</td>\n",
       "      <td>66</td>\n",
       "      <td>-</td>\n",
       "      <td>-</td>\n",
       "      <td>2009-10</td>\n",
       "      <td>20</td>\n",
       "    </tr>\n",
       "    <tr>\n",
       "      <th>57</th>\n",
       "      <td>Team 58</td>\n",
       "      <td>1</td>\n",
       "      <td>22</td>\n",
       "      <td>30</td>\n",
       "      <td>7</td>\n",
       "      <td>8</td>\n",
       "      <td>15</td>\n",
       "      <td>37</td>\n",
       "      <td>57</td>\n",
       "      <td>-</td>\n",
       "      <td>-</td>\n",
       "      <td>1956-57</td>\n",
       "      <td>16</td>\n",
       "    </tr>\n",
       "    <tr>\n",
       "      <th>58</th>\n",
       "      <td>Team 59</td>\n",
       "      <td>1</td>\n",
       "      <td>19</td>\n",
       "      <td>30</td>\n",
       "      <td>7</td>\n",
       "      <td>5</td>\n",
       "      <td>18</td>\n",
       "      <td>51</td>\n",
       "      <td>85</td>\n",
       "      <td>-</td>\n",
       "      <td>-</td>\n",
       "      <td>1951~52</td>\n",
       "      <td>16</td>\n",
       "    </tr>\n",
       "    <tr>\n",
       "      <th>59</th>\n",
       "      <td>Team 60</td>\n",
       "      <td>1</td>\n",
       "      <td>14</td>\n",
       "      <td>30</td>\n",
       "      <td>5</td>\n",
       "      <td>4</td>\n",
       "      <td>21</td>\n",
       "      <td>34</td>\n",
       "      <td>65</td>\n",
       "      <td>-</td>\n",
       "      <td>-</td>\n",
       "      <td>1955-56</td>\n",
       "      <td>15</td>\n",
       "    </tr>\n",
       "    <tr>\n",
       "      <th>60</th>\n",
       "      <td>Team 61</td>\n",
       "      <td>1</td>\n",
       "      <td>-</td>\n",
       "      <td>-</td>\n",
       "      <td>-</td>\n",
       "      <td>-</td>\n",
       "      <td>-</td>\n",
       "      <td>-</td>\n",
       "      <td>-</td>\n",
       "      <td>-</td>\n",
       "      <td>-</td>\n",
       "      <td>2017~18</td>\n",
       "      <td>9</td>\n",
       "    </tr>\n",
       "  </tbody>\n",
       "</table>\n",
       "</div>"
      ],
      "text/plain": [
       "       Team  Tournament Score PlayedGames WonGames DrawnGames LostGames  \\\n",
       "56  Team 57           1    34          38        8         10        20   \n",
       "57  Team 58           1    22          30        7          8        15   \n",
       "58  Team 59           1    19          30        7          5        18   \n",
       "59  Team 60           1    14          30        5          4        21   \n",
       "60  Team 61           1     -           -        -          -         -   \n",
       "\n",
       "   BasketScored BasketGiven TournamentChampion Runner-up TeamLaunch  \\\n",
       "56           38          66                  -         -    2009-10   \n",
       "57           37          57                  -         -    1956-57   \n",
       "58           51          85                  -         -    1951~52   \n",
       "59           34          65                  -         -    1955-56   \n",
       "60            -           -                  -         -    2017~18   \n",
       "\n",
       "    HighestPositionHeld  \n",
       "56                   20  \n",
       "57                   16  \n",
       "58                   16  \n",
       "59                   15  \n",
       "60                    9  "
      ]
     },
     "execution_count": 126,
     "metadata": {},
     "output_type": "execute_result"
    }
   ],
   "source": [
    "# Check the tail of the dataset\n",
    "df.tail()"
   ]
  },
  {
   "cell_type": "code",
   "execution_count": 127,
   "id": "a93a12f1",
   "metadata": {},
   "outputs": [],
   "source": [
    "#To take a closer look at the data, pandas library provides “.head()” function which returns first five observations and “.tail()” function which returns last five observations of the data set."
   ]
  },
  {
   "cell_type": "code",
   "execution_count": 4,
   "id": "79306a33",
   "metadata": {},
   "outputs": [
    {
     "data": {
      "text/plain": [
       "(61, 13)"
      ]
     },
     "execution_count": 4,
     "metadata": {},
     "output_type": "execute_result"
    }
   ],
   "source": [
    "#Inspect the Dataset\n",
    "# Get the shape and size of the dataset\n",
    "df.shape"
   ]
  },
  {
   "cell_type": "code",
   "execution_count": null,
   "id": "1c3b6fa0",
   "metadata": {},
   "outputs": [],
   "source": [
    "# Get more info on it\n",
    "# 1. Name of the columns\n",
    "# 2. Find the data types of each columns\n",
    "# 3. Look for any null/missing values\n",
    "df.info()"
   ]
  },
  {
   "cell_type": "code",
   "execution_count": 7,
   "id": "786ffc91",
   "metadata": {},
   "outputs": [
    {
     "data": {
      "text/plain": [
       "Team                   0\n",
       "Tournament             0\n",
       "Score                  0\n",
       "PlayedGames            0\n",
       "WonGames               0\n",
       "DrawnGames             0\n",
       "LostGames              0\n",
       "BasketScored           0\n",
       "BasketGiven            0\n",
       "TournamentChampion     0\n",
       "Runner-up              0\n",
       "TeamLaunch             0\n",
       "HighestPositionHeld    0\n",
       "dtype: int64"
      ]
     },
     "execution_count": 7,
     "metadata": {},
     "output_type": "execute_result"
    }
   ],
   "source": [
    "df.isnull().sum()"
   ]
  },
  {
   "cell_type": "code",
   "execution_count": 8,
   "id": "8f95a47a",
   "metadata": {},
   "outputs": [
    {
     "data": {
      "text/plain": [
       "Team                   0\n",
       "Tournament             0\n",
       "Score                  0\n",
       "PlayedGames            0\n",
       "WonGames               0\n",
       "DrawnGames             0\n",
       "LostGames              0\n",
       "BasketScored           0\n",
       "BasketGiven            0\n",
       "TournamentChampion     0\n",
       "Runner-up              0\n",
       "TeamLaunch             0\n",
       "HighestPositionHeld    0\n",
       "dtype: int64"
      ]
     },
     "execution_count": 8,
     "metadata": {},
     "output_type": "execute_result"
    }
   ],
   "source": [
    "df.isna().sum()"
   ]
  },
  {
   "cell_type": "markdown",
   "id": "4faf3967",
   "metadata": {},
   "source": [
    "Observations\n",
    "\n",
    "This dataset contains 61 observations with 13 independant attribues\n",
    "All columns are of type string where as only Tournament and HighestPositionHeld are of type integer\n",
    "There are No null/missing values present in the dataset"
   ]
  },
  {
   "cell_type": "markdown",
   "id": "71baca2a",
   "metadata": {},
   "source": [
    "Data Cleaning\n",
    "We can't conclude and derive relationships with Exploratory Data Analysis (EDA) when some of the data is missing/encoded. So we have to find a solution to clean it up before taking it into consideration.\n",
    "\n",
    "The easiest option could be to eliminate all those team's record with null or missing values present in any of the attributes, but in this way we would end up eliminating a lot of other important data.\n",
    "\n",
    "Analysing the dataset, it implies that all of the attributes are quantitative except for the TeamLaunch, which represents a year So, our approach is to impute 0 in place of all the null or missing fields. TeamLaunch attribute also needs to be cleaned to contain only a particular year of launch."
   ]
  },
  {
   "cell_type": "markdown",
   "id": "600fc35f",
   "metadata": {},
   "source": [
    "Convert data types of the columns for easier mathematical operations"
   ]
  },
  {
   "cell_type": "code",
   "execution_count": 128,
   "id": "f2aa5fd4",
   "metadata": {},
   "outputs": [],
   "source": [
    "df['TeamLaunch'] = df['TeamLaunch'].apply(lambda year: str(year)[:4])\n",
    "df['TeamLaunch'] = df['TeamLaunch'].astype(int)"
   ]
  },
  {
   "cell_type": "code",
   "execution_count": 129,
   "id": "a29444d4",
   "metadata": {},
   "outputs": [],
   "source": [
    "df['Tournament'] = df['Tournament'].astype(int)\n",
    "df['Score'] = df['Score'].replace(('-',' '),'0').astype(int)\n",
    "df['PlayedGames'] = df['PlayedGames'].replace(('-',' '),'0').astype(int)\n",
    "df['WonGames'] = df['WonGames'].replace(('-',' '),'0').astype(int)\n",
    "df['DrawnGames'] = df['DrawnGames'].replace(('-',' '),'0').astype(int)\n",
    "df['LostGames'] = df['LostGames'].replace(('-',' '),'0').astype(int)\n",
    "df['BasketScored'] = df['BasketScored'].replace(('-',' '),'0').astype(int)\n",
    "df['BasketGiven'] = df['BasketGiven'].replace(('-',' '),'0').astype(int)\n",
    "df['TournamentChampion'] = df['TournamentChampion'].replace(('-',' '),'0').astype(object)\n",
    "df['Runner-up'] = df['Runner-up'].replace(('-',' '),'0').astype(object)\n",
    "df['HighestPositionHeld'] = df['HighestPositionHeld'].replace(('-',' '),'0').astype(object)"
   ]
  },
  {
   "cell_type": "code",
   "execution_count": 49,
   "id": "42836f39",
   "metadata": {},
   "outputs": [
    {
     "name": "stdout",
     "output_type": "stream",
     "text": [
      "<class 'pandas.core.frame.DataFrame'>\n",
      "Int64Index: 47 entries, 6 to 60\n",
      "Data columns (total 13 columns):\n",
      " #   Column               Non-Null Count  Dtype \n",
      "---  ------               --------------  ----- \n",
      " 0   Team                 47 non-null     object\n",
      " 1   Tournament           47 non-null     int32 \n",
      " 2   Score                47 non-null     int32 \n",
      " 3   PlayedGames          47 non-null     int32 \n",
      " 4   WonGames             47 non-null     int32 \n",
      " 5   DrawnGames           47 non-null     int32 \n",
      " 6   LostGames            47 non-null     int32 \n",
      " 7   BasketScored         47 non-null     int32 \n",
      " 8   BasketGiven          47 non-null     int32 \n",
      " 9   TournamentChampion   47 non-null     object\n",
      " 10  Runner-up            47 non-null     object\n",
      " 11  TeamLaunch           47 non-null     object\n",
      " 12  HighestPositionHeld  47 non-null     object\n",
      "dtypes: int32(8), object(5)\n",
      "memory usage: 3.7+ KB\n"
     ]
    }
   ],
   "source": [
    "#revised info\n",
    "df.info()"
   ]
  },
  {
   "cell_type": "markdown",
   "id": "e2672171",
   "metadata": {},
   "source": [
    "Check the outliers"
   ]
  },
  {
   "cell_type": "code",
   "execution_count": 79,
   "id": "596c8cd7",
   "metadata": {},
   "outputs": [
    {
     "data": {
      "text/plain": [
       "<AxesSubplot:>"
      ]
     },
     "execution_count": 79,
     "metadata": {},
     "output_type": "execute_result"
    },
    {
     "data": {
      "image/png": "[encoded data removed]",
      "text/plain": [
       "<Figure size 1440x1080 with 1 Axes>"
      ]
     },
     "metadata": {
      "needs_background": "light"
     },
     "output_type": "display_data"
    }
   ],
   "source": [
    "plt.figure(figsize=(20,15))\n",
    "sns.boxplot(data=df)"
   ]
  },
  {
   "cell_type": "markdown",
   "id": "cd851d31",
   "metadata": {},
   "source": [
    "The Variables such as score,played games,wongames,Basket score contains outliers which needed to be treated to avoid anamolies. Here, The box plot helps us to find the outliers."
   ]
  },
  {
   "cell_type": "markdown",
   "id": "ae9b2ac4",
   "metadata": {},
   "source": [
    "Outlier treatment"
   ]
  },
  {
   "cell_type": "markdown",
   "id": "03a1c2b0",
   "metadata": {},
   "source": [
    "Replace outliers with the mean or median (whichever better represents for your data) for that variable to avoid a missing data point."
   ]
  },
  {
   "cell_type": "markdown",
   "id": "7f695aad",
   "metadata": {},
   "source": [
    "Here we are using median function to treat the outliers by replacing the values in the variables such as Score,Woin Games and BasketScores, since using mean is highly susceptible to outliers."
   ]
  },
  {
   "cell_type": "code",
   "execution_count": 130,
   "id": "21cb63d2",
   "metadata": {},
   "outputs": [],
   "source": [
    "median = df['Score'].median()\n",
    "df['Score'] = np.where(df['Score'] > median, median, df['Score'])"
   ]
  },
  {
   "cell_type": "code",
   "execution_count": 131,
   "id": "bd2c2a49",
   "metadata": {},
   "outputs": [],
   "source": [
    "median1 = df['WonGames'].median()\n",
    "df['WonGames'] = np.where(df['Score'] > median1, median1, df['WonGames'])"
   ]
  },
  {
   "cell_type": "code",
   "execution_count": 132,
   "id": "b888aabb",
   "metadata": {},
   "outputs": [],
   "source": [
    "median2 = df['BasketScored'].median()\n",
    "df['BasketScored'] = np.where(df['BasketScored'] > median2, median2, df['BasketScored'])"
   ]
  },
  {
   "cell_type": "markdown",
   "id": "350d17bb",
   "metadata": {},
   "source": [
    "After Outlier Treatment"
   ]
  },
  {
   "cell_type": "code",
   "execution_count": 135,
   "id": "d9bc7815",
   "metadata": {},
   "outputs": [
    {
     "data": {
      "text/plain": [
       "<AxesSubplot:>"
      ]
     },
     "execution_count": 135,
     "metadata": {},
     "output_type": "execute_result"
    },
    {
     "data": {
      "image/png": "[encoded data removed]",
      "text/plain": [
       "<Figure size 1440x1080 with 1 Axes>"
      ]
     },
     "metadata": {
      "needs_background": "light"
     },
     "output_type": "display_data"
    }
   ],
   "source": [
    "plt.figure(figsize=(20,15))\n",
    "sns.boxplot(data=df)"
   ]
  },
  {
   "cell_type": "markdown",
   "id": "180c0fb0",
   "metadata": {},
   "source": [
    "The above box plot shows the post-outlier treatment Graph. Here as we could see there is no outliers present"
   ]
  },
  {
   "cell_type": "raw",
   "id": "54ff2dcc",
   "metadata": {},
   "source": [
    "EDA - Feature engineering"
   ]
  },
  {
   "cell_type": "markdown",
   "id": "6d0f9566",
   "metadata": {},
   "source": [
    "Adding columns"
   ]
  },
  {
   "cell_type": "markdown",
   "id": "80d7979a",
   "metadata": {},
   "source": [
    "WinningPercentage: Percentages of games owned by the team.\n",
    "LoosingPercentage: Percentages of games lost by the team.\n",
    "WinningRatio: Ratio of games won to that of lost\n",
    "BasketRatio: Ratio of baskets scored to that of given"
   ]
  },
  {
   "cell_type": "markdown",
   "id": "783b4331",
   "metadata": {},
   "source": [
    "A. Determining Winning Percentage"
   ]
  },
  {
   "cell_type": "code",
   "execution_count": 217,
   "id": "be737098",
   "metadata": {},
   "outputs": [
    {
     "data": {
      "text/html": [
       "<div>\n",
       "<style scoped>\n",
       "    .dataframe tbody tr th:only-of-type {\n",
       "        vertical-align: middle;\n",
       "    }\n",
       "\n",
       "    .dataframe tbody tr th {\n",
       "        vertical-align: top;\n",
       "    }\n",
       "\n",
       "    .dataframe thead th {\n",
       "        text-align: right;\n",
       "    }\n",
       "</style>\n",
       "<table border=\"1\" class=\"dataframe\">\n",
       "  <thead>\n",
       "    <tr style=\"text-align: right;\">\n",
       "      <th></th>\n",
       "      <th>Team</th>\n",
       "      <th>Tournament</th>\n",
       "      <th>Score</th>\n",
       "      <th>PlayedGames</th>\n",
       "      <th>WonGames</th>\n",
       "      <th>WinningPercentage</th>\n",
       "      <th>DrawnGames</th>\n",
       "      <th>LostGames</th>\n",
       "      <th>BasketScored</th>\n",
       "      <th>BasketGiven</th>\n",
       "      <th>TournamentChampion</th>\n",
       "      <th>Runner-up</th>\n",
       "      <th>TeamLaunch</th>\n",
       "      <th>HighestPositionHeld</th>\n",
       "    </tr>\n",
       "  </thead>\n",
       "  <tbody>\n",
       "    <tr>\n",
       "      <th>0</th>\n",
       "      <td>Team 1</td>\n",
       "      <td>86</td>\n",
       "      <td>375.0</td>\n",
       "      <td>2762</td>\n",
       "      <td>123.0</td>\n",
       "      <td>0.044533</td>\n",
       "      <td>552</td>\n",
       "      <td>563</td>\n",
       "      <td>430.0</td>\n",
       "      <td>3140</td>\n",
       "      <td>33</td>\n",
       "      <td>23</td>\n",
       "      <td>1929</td>\n",
       "      <td>1</td>\n",
       "    </tr>\n",
       "    <tr>\n",
       "      <th>1</th>\n",
       "      <td>Team 2</td>\n",
       "      <td>86</td>\n",
       "      <td>375.0</td>\n",
       "      <td>2762</td>\n",
       "      <td>123.0</td>\n",
       "      <td>0.044533</td>\n",
       "      <td>573</td>\n",
       "      <td>608</td>\n",
       "      <td>430.0</td>\n",
       "      <td>3114</td>\n",
       "      <td>25</td>\n",
       "      <td>25</td>\n",
       "      <td>1929</td>\n",
       "      <td>1</td>\n",
       "    </tr>\n",
       "    <tr>\n",
       "      <th>2</th>\n",
       "      <td>Team 3</td>\n",
       "      <td>80</td>\n",
       "      <td>375.0</td>\n",
       "      <td>2614</td>\n",
       "      <td>123.0</td>\n",
       "      <td>0.047054</td>\n",
       "      <td>598</td>\n",
       "      <td>775</td>\n",
       "      <td>430.0</td>\n",
       "      <td>3309</td>\n",
       "      <td>10</td>\n",
       "      <td>8</td>\n",
       "      <td>1929</td>\n",
       "      <td>1</td>\n",
       "    </tr>\n",
       "    <tr>\n",
       "      <th>3</th>\n",
       "      <td>Team 4</td>\n",
       "      <td>82</td>\n",
       "      <td>375.0</td>\n",
       "      <td>2664</td>\n",
       "      <td>123.0</td>\n",
       "      <td>0.046171</td>\n",
       "      <td>616</td>\n",
       "      <td>861</td>\n",
       "      <td>430.0</td>\n",
       "      <td>3469</td>\n",
       "      <td>6</td>\n",
       "      <td>6</td>\n",
       "      <td>1931</td>\n",
       "      <td>1</td>\n",
       "    </tr>\n",
       "    <tr>\n",
       "      <th>4</th>\n",
       "      <td>Team 5</td>\n",
       "      <td>86</td>\n",
       "      <td>375.0</td>\n",
       "      <td>2762</td>\n",
       "      <td>123.0</td>\n",
       "      <td>0.044533</td>\n",
       "      <td>633</td>\n",
       "      <td>920</td>\n",
       "      <td>430.0</td>\n",
       "      <td>3700</td>\n",
       "      <td>8</td>\n",
       "      <td>7</td>\n",
       "      <td>1929</td>\n",
       "      <td>1</td>\n",
       "    </tr>\n",
       "  </tbody>\n",
       "</table>\n",
       "</div>"
      ],
      "text/plain": [
       "     Team  Tournament  Score  PlayedGames  WonGames  WinningPercentage  \\\n",
       "0  Team 1          86  375.0         2762     123.0           0.044533   \n",
       "1  Team 2          86  375.0         2762     123.0           0.044533   \n",
       "2  Team 3          80  375.0         2614     123.0           0.047054   \n",
       "3  Team 4          82  375.0         2664     123.0           0.046171   \n",
       "4  Team 5          86  375.0         2762     123.0           0.044533   \n",
       "\n",
       "   DrawnGames  LostGames  BasketScored  BasketGiven TournamentChampion  \\\n",
       "0         552        563         430.0         3140                 33   \n",
       "1         573        608         430.0         3114                 25   \n",
       "2         598        775         430.0         3309                 10   \n",
       "3         616        861         430.0         3469                  6   \n",
       "4         633        920         430.0         3700                  8   \n",
       "\n",
       "  Runner-up  TeamLaunch  HighestPositionHeld  \n",
       "0        23        1929                    1  \n",
       "1        25        1929                    1  \n",
       "2         8        1929                    1  \n",
       "3         6        1931                    1  \n",
       "4         7        1929                    1  "
      ]
     },
     "execution_count": 217,
     "metadata": {},
     "output_type": "execute_result"
    }
   ],
   "source": [
    "df_win = df['WonGames'] / df['PlayedGames']\n",
    "df.insert(loc=5, column='WinningPercentage', value=df_win)\n",
    "df.head()"
   ]
  },
  {
   "cell_type": "markdown",
   "id": "9a7765f0",
   "metadata": {},
   "source": [
    "To see which team performs well in the matches we are adding one more column called winning percentage.\n",
    "This winning percentage column has the values which we got from the formula below\n",
    "win='wongames values'/'played games values'"
   ]
  },
  {
   "cell_type": "code",
   "execution_count": 185,
   "id": "63d5c669",
   "metadata": {},
   "outputs": [
    {
     "data": {
      "image/png": "[encoded data removed]",
      "text/plain": [
       "<Figure size 1800x720 with 1 Axes>"
      ]
     },
     "metadata": {
      "needs_background": "light"
     },
     "output_type": "display_data"
    }
   ],
   "source": [
    "plt.figure(figsize=(25,10))\n",
    "sns.scatterplot(x='Team', y='WinningPercentage', data=df)\n",
    "plt.xticks(rotation=90)\n",
    "plt.show()"
   ]
  },
  {
   "cell_type": "markdown",
   "id": "7e61c583",
   "metadata": {},
   "source": [
    "On observing the above scatterplot we came to know that Team 44 shows poor performance in all the matches.\n",
    "Team 1 to Team 10 seems to be performing well."
   ]
  },
  {
   "cell_type": "markdown",
   "id": "dbf25aef",
   "metadata": {},
   "source": [
    "B. Determining Winning Ratio"
   ]
  },
  {
   "cell_type": "code",
   "execution_count": 218,
   "id": "6bfeca8b",
   "metadata": {},
   "outputs": [
    {
     "data": {
      "text/html": [
       "<div>\n",
       "<style scoped>\n",
       "    .dataframe tbody tr th:only-of-type {\n",
       "        vertical-align: middle;\n",
       "    }\n",
       "\n",
       "    .dataframe tbody tr th {\n",
       "        vertical-align: top;\n",
       "    }\n",
       "\n",
       "    .dataframe thead th {\n",
       "        text-align: right;\n",
       "    }\n",
       "</style>\n",
       "<table border=\"1\" class=\"dataframe\">\n",
       "  <thead>\n",
       "    <tr style=\"text-align: right;\">\n",
       "      <th></th>\n",
       "      <th>Team</th>\n",
       "      <th>Tournament</th>\n",
       "      <th>Score</th>\n",
       "      <th>PlayedGames</th>\n",
       "      <th>WonGames</th>\n",
       "      <th>WinningPercentage</th>\n",
       "      <th>DrawnGames</th>\n",
       "      <th>LostGames</th>\n",
       "      <th>BasketScored</th>\n",
       "      <th>WinningRatio</th>\n",
       "      <th>BasketGiven</th>\n",
       "      <th>TournamentChampion</th>\n",
       "      <th>Runner-up</th>\n",
       "      <th>TeamLaunch</th>\n",
       "      <th>HighestPositionHeld</th>\n",
       "    </tr>\n",
       "  </thead>\n",
       "  <tbody>\n",
       "    <tr>\n",
       "      <th>0</th>\n",
       "      <td>Team 1</td>\n",
       "      <td>86</td>\n",
       "      <td>375.0</td>\n",
       "      <td>2762</td>\n",
       "      <td>123.0</td>\n",
       "      <td>0.044533</td>\n",
       "      <td>552</td>\n",
       "      <td>563</td>\n",
       "      <td>430.0</td>\n",
       "      <td>0.218472</td>\n",
       "      <td>3140</td>\n",
       "      <td>33</td>\n",
       "      <td>23</td>\n",
       "      <td>1929</td>\n",
       "      <td>1</td>\n",
       "    </tr>\n",
       "    <tr>\n",
       "      <th>1</th>\n",
       "      <td>Team 2</td>\n",
       "      <td>86</td>\n",
       "      <td>375.0</td>\n",
       "      <td>2762</td>\n",
       "      <td>123.0</td>\n",
       "      <td>0.044533</td>\n",
       "      <td>573</td>\n",
       "      <td>608</td>\n",
       "      <td>430.0</td>\n",
       "      <td>0.202303</td>\n",
       "      <td>3114</td>\n",
       "      <td>25</td>\n",
       "      <td>25</td>\n",
       "      <td>1929</td>\n",
       "      <td>1</td>\n",
       "    </tr>\n",
       "    <tr>\n",
       "      <th>2</th>\n",
       "      <td>Team 3</td>\n",
       "      <td>80</td>\n",
       "      <td>375.0</td>\n",
       "      <td>2614</td>\n",
       "      <td>123.0</td>\n",
       "      <td>0.047054</td>\n",
       "      <td>598</td>\n",
       "      <td>775</td>\n",
       "      <td>430.0</td>\n",
       "      <td>0.158710</td>\n",
       "      <td>3309</td>\n",
       "      <td>10</td>\n",
       "      <td>8</td>\n",
       "      <td>1929</td>\n",
       "      <td>1</td>\n",
       "    </tr>\n",
       "    <tr>\n",
       "      <th>3</th>\n",
       "      <td>Team 4</td>\n",
       "      <td>82</td>\n",
       "      <td>375.0</td>\n",
       "      <td>2664</td>\n",
       "      <td>123.0</td>\n",
       "      <td>0.046171</td>\n",
       "      <td>616</td>\n",
       "      <td>861</td>\n",
       "      <td>430.0</td>\n",
       "      <td>0.142857</td>\n",
       "      <td>3469</td>\n",
       "      <td>6</td>\n",
       "      <td>6</td>\n",
       "      <td>1931</td>\n",
       "      <td>1</td>\n",
       "    </tr>\n",
       "    <tr>\n",
       "      <th>4</th>\n",
       "      <td>Team 5</td>\n",
       "      <td>86</td>\n",
       "      <td>375.0</td>\n",
       "      <td>2762</td>\n",
       "      <td>123.0</td>\n",
       "      <td>0.044533</td>\n",
       "      <td>633</td>\n",
       "      <td>920</td>\n",
       "      <td>430.0</td>\n",
       "      <td>0.133696</td>\n",
       "      <td>3700</td>\n",
       "      <td>8</td>\n",
       "      <td>7</td>\n",
       "      <td>1929</td>\n",
       "      <td>1</td>\n",
       "    </tr>\n",
       "  </tbody>\n",
       "</table>\n",
       "</div>"
      ],
      "text/plain": [
       "     Team  Tournament  Score  PlayedGames  WonGames  WinningPercentage  \\\n",
       "0  Team 1          86  375.0         2762     123.0           0.044533   \n",
       "1  Team 2          86  375.0         2762     123.0           0.044533   \n",
       "2  Team 3          80  375.0         2614     123.0           0.047054   \n",
       "3  Team 4          82  375.0         2664     123.0           0.046171   \n",
       "4  Team 5          86  375.0         2762     123.0           0.044533   \n",
       "\n",
       "   DrawnGames  LostGames  BasketScored  WinningRatio  BasketGiven  \\\n",
       "0         552        563         430.0      0.218472         3140   \n",
       "1         573        608         430.0      0.202303         3114   \n",
       "2         598        775         430.0      0.158710         3309   \n",
       "3         616        861         430.0      0.142857         3469   \n",
       "4         633        920         430.0      0.133696         3700   \n",
       "\n",
       "  TournamentChampion Runner-up  TeamLaunch  HighestPositionHeld  \n",
       "0                 33        23        1929                    1  \n",
       "1                 25        25        1929                    1  \n",
       "2                 10         8        1929                    1  \n",
       "3                  6         6        1931                    1  \n",
       "4                  8         7        1929                    1  "
      ]
     },
     "execution_count": 218,
     "metadata": {},
     "output_type": "execute_result"
    }
   ],
   "source": [
    "df_win_ratio = df['WonGames'] / df['LostGames']\n",
    "df.insert(loc=9, column='WinningRatio', value=df_win_ratio)\n",
    "df.head()"
   ]
  },
  {
   "cell_type": "code",
   "execution_count": 188,
   "id": "0e19241d",
   "metadata": {},
   "outputs": [
    {
     "data": {
      "image/png": "[encoded data removed]",
      "text/plain": [
       "<Figure size 1440x576 with 1 Axes>"
      ]
     },
     "metadata": {
      "needs_background": "light"
     },
     "output_type": "display_data"
    }
   ],
   "source": [
    "plt.figure(figsize=(20,8))\n",
    "sns.scatterplot(x='Team', y='WinningRatio', data=df)\n",
    "plt.xticks(rotation=90)\n",
    "plt.show()"
   ]
  },
  {
   "cell_type": "markdown",
   "id": "bae46389",
   "metadata": {},
   "source": [
    "On observing the above scatterplot we came to know that Team 44 shows poor performance in all the matches.\n",
    "Team 1 to Team 10 seems to be performing well."
   ]
  },
  {
   "cell_type": "markdown",
   "id": "1447add5",
   "metadata": {},
   "source": [
    "C. Determining Tournament count"
   ]
  },
  {
   "cell_type": "code",
   "execution_count": 190,
   "id": "b4ce48c1",
   "metadata": {},
   "outputs": [
    {
     "data": {
      "image/png": "[encoded data removed]",
      "text/plain": [
       "<Figure size 1440x576 with 1 Axes>"
      ]
     },
     "metadata": {
      "needs_background": "light"
     },
     "output_type": "display_data"
    }
   ],
   "source": [
    "plt.figure(figsize=(20,8))\n",
    "sns.barplot(df['Team'], df['Tournament'])\n",
    "plt.xticks(rotation=90)\n",
    "plt.show()"
   ]
  },
  {
   "cell_type": "markdown",
   "id": "1e5533ea",
   "metadata": {},
   "source": [
    "From the above plot, we can infer that Team 1,2 & 5 have played most of the tournament. \n",
    "Team 56 to 61 has played in least number of tournaments.\n",
    "It is evident that the teams playing most number of tournaments have wither won or lost in counts"
   ]
  },
  {
   "cell_type": "markdown",
   "id": "2b4cb579",
   "metadata": {},
   "source": [
    "D. Determining score of each teams"
   ]
  },
  {
   "cell_type": "code",
   "execution_count": 124,
   "id": "119968cb",
   "metadata": {},
   "outputs": [
    {
     "data": {
      "text/plain": [
       "<AxesSubplot:xlabel='Score', ylabel='Team'>"
      ]
     },
     "execution_count": 124,
     "metadata": {},
     "output_type": "execute_result"
    },
    {
     "data": {
      "image/png": "[encoded data removed]",
      "text/plain": [
       "<Figure size 1440x1080 with 1 Axes>"
      ]
     },
     "metadata": {
      "needs_background": "light"
     },
     "output_type": "display_data"
    }
   ],
   "source": [
    "plt.figure(figsize=(20,15))\n",
    "sns.barplot(df['Score'], df['Team'], orient='h')"
   ]
  },
  {
   "cell_type": "markdown",
   "id": "3b193570",
   "metadata": {},
   "source": [
    "-From the above plot, we can infer that Teams 1 to 31 have almost equal scores obtained.\n",
    "-From team 32 to 61 the scores drop making \n",
    "-Team 61 score the least"
   ]
  },
  {
   "cell_type": "markdown",
   "id": "1e4d17a6",
   "metadata": {},
   "source": [
    "E. Determining the Tournament Champion"
   ]
  },
  {
   "cell_type": "code",
   "execution_count": 203,
   "id": "4ca9d12a",
   "metadata": {},
   "outputs": [
    {
     "data": {
      "text/plain": [
       "<AxesSubplot:xlabel='TournamentChampion', ylabel='Team'>"
      ]
     },
     "execution_count": 203,
     "metadata": {},
     "output_type": "execute_result"
    },
    {
     "data": {
      "image/png": "[encoded data removed]",
      "text/plain": [
       "<Figure size 1440x1080 with 1 Axes>"
      ]
     },
     "metadata": {
      "needs_background": "light"
     },
     "output_type": "display_data"
    }
   ],
   "source": [
    "plt.figure(figsize=(20,15))\n",
    "sns.scatterplot(df['TournamentChampion'], df['Team'])"
   ]
  },
  {
   "cell_type": "markdown",
   "id": "99a08931",
   "metadata": {},
   "source": [
    "By using the scatterplot, we can infer that Team 1 has been Tournament champion for almost 33 times followed by Team 2 and Team 3.\n",
    "It is evident that dealing with Team 1,2 or 3 is a good option for company X"
   ]
  },
  {
   "cell_type": "markdown",
   "id": "8f06e5fc",
   "metadata": {},
   "source": [
    "F. Determining Oldest team"
   ]
  },
  {
   "cell_type": "code",
   "execution_count": 220,
   "id": "dab7fa3d",
   "metadata": {},
   "outputs": [
    {
     "data": {
      "text/html": [
       "<div>\n",
       "<style scoped>\n",
       "    .dataframe tbody tr th:only-of-type {\n",
       "        vertical-align: middle;\n",
       "    }\n",
       "\n",
       "    .dataframe tbody tr th {\n",
       "        vertical-align: top;\n",
       "    }\n",
       "\n",
       "    .dataframe thead th {\n",
       "        text-align: right;\n",
       "    }\n",
       "</style>\n",
       "<table border=\"1\" class=\"dataframe\">\n",
       "  <thead>\n",
       "    <tr style=\"text-align: right;\">\n",
       "      <th></th>\n",
       "      <th>Team</th>\n",
       "      <th>Tournament</th>\n",
       "      <th>Score</th>\n",
       "      <th>PlayedGames</th>\n",
       "      <th>WonGames</th>\n",
       "      <th>WinningPercentage</th>\n",
       "      <th>DrawnGames</th>\n",
       "      <th>LostGames</th>\n",
       "      <th>BasketScored</th>\n",
       "      <th>WinningRatio</th>\n",
       "      <th>BasketGiven</th>\n",
       "      <th>TournamentChampion</th>\n",
       "      <th>Runner-up</th>\n",
       "      <th>Age</th>\n",
       "      <th>BasketRatio</th>\n",
       "      <th>TeamLaunch</th>\n",
       "      <th>HighestPositionHeld</th>\n",
       "    </tr>\n",
       "  </thead>\n",
       "  <tbody>\n",
       "    <tr>\n",
       "      <th>0</th>\n",
       "      <td>Team 1</td>\n",
       "      <td>86</td>\n",
       "      <td>375.0</td>\n",
       "      <td>2762</td>\n",
       "      <td>123.0</td>\n",
       "      <td>0.044533</td>\n",
       "      <td>552</td>\n",
       "      <td>563</td>\n",
       "      <td>430.0</td>\n",
       "      <td>0.218472</td>\n",
       "      <td>3140</td>\n",
       "      <td>33</td>\n",
       "      <td>23</td>\n",
       "      <td>93</td>\n",
       "      <td>0.136943</td>\n",
       "      <td>1929</td>\n",
       "      <td>1</td>\n",
       "    </tr>\n",
       "    <tr>\n",
       "      <th>1</th>\n",
       "      <td>Team 2</td>\n",
       "      <td>86</td>\n",
       "      <td>375.0</td>\n",
       "      <td>2762</td>\n",
       "      <td>123.0</td>\n",
       "      <td>0.044533</td>\n",
       "      <td>573</td>\n",
       "      <td>608</td>\n",
       "      <td>430.0</td>\n",
       "      <td>0.202303</td>\n",
       "      <td>3114</td>\n",
       "      <td>25</td>\n",
       "      <td>25</td>\n",
       "      <td>93</td>\n",
       "      <td>0.138086</td>\n",
       "      <td>1929</td>\n",
       "      <td>1</td>\n",
       "    </tr>\n",
       "    <tr>\n",
       "      <th>2</th>\n",
       "      <td>Team 3</td>\n",
       "      <td>80</td>\n",
       "      <td>375.0</td>\n",
       "      <td>2614</td>\n",
       "      <td>123.0</td>\n",
       "      <td>0.047054</td>\n",
       "      <td>598</td>\n",
       "      <td>775</td>\n",
       "      <td>430.0</td>\n",
       "      <td>0.158710</td>\n",
       "      <td>3309</td>\n",
       "      <td>10</td>\n",
       "      <td>8</td>\n",
       "      <td>93</td>\n",
       "      <td>0.129949</td>\n",
       "      <td>1929</td>\n",
       "      <td>1</td>\n",
       "    </tr>\n",
       "    <tr>\n",
       "      <th>3</th>\n",
       "      <td>Team 4</td>\n",
       "      <td>82</td>\n",
       "      <td>375.0</td>\n",
       "      <td>2664</td>\n",
       "      <td>123.0</td>\n",
       "      <td>0.046171</td>\n",
       "      <td>616</td>\n",
       "      <td>861</td>\n",
       "      <td>430.0</td>\n",
       "      <td>0.142857</td>\n",
       "      <td>3469</td>\n",
       "      <td>6</td>\n",
       "      <td>6</td>\n",
       "      <td>91</td>\n",
       "      <td>0.123955</td>\n",
       "      <td>1931</td>\n",
       "      <td>1</td>\n",
       "    </tr>\n",
       "    <tr>\n",
       "      <th>4</th>\n",
       "      <td>Team 5</td>\n",
       "      <td>86</td>\n",
       "      <td>375.0</td>\n",
       "      <td>2762</td>\n",
       "      <td>123.0</td>\n",
       "      <td>0.044533</td>\n",
       "      <td>633</td>\n",
       "      <td>920</td>\n",
       "      <td>430.0</td>\n",
       "      <td>0.133696</td>\n",
       "      <td>3700</td>\n",
       "      <td>8</td>\n",
       "      <td>7</td>\n",
       "      <td>93</td>\n",
       "      <td>0.116216</td>\n",
       "      <td>1929</td>\n",
       "      <td>1</td>\n",
       "    </tr>\n",
       "  </tbody>\n",
       "</table>\n",
       "</div>"
      ],
      "text/plain": [
       "     Team  Tournament  Score  PlayedGames  WonGames  WinningPercentage  \\\n",
       "0  Team 1          86  375.0         2762     123.0           0.044533   \n",
       "1  Team 2          86  375.0         2762     123.0           0.044533   \n",
       "2  Team 3          80  375.0         2614     123.0           0.047054   \n",
       "3  Team 4          82  375.0         2664     123.0           0.046171   \n",
       "4  Team 5          86  375.0         2762     123.0           0.044533   \n",
       "\n",
       "   DrawnGames  LostGames  BasketScored  WinningRatio  BasketGiven  \\\n",
       "0         552        563         430.0      0.218472         3140   \n",
       "1         573        608         430.0      0.202303         3114   \n",
       "2         598        775         430.0      0.158710         3309   \n",
       "3         616        861         430.0      0.142857         3469   \n",
       "4         633        920         430.0      0.133696         3700   \n",
       "\n",
       "  TournamentChampion Runner-up  Age  BasketRatio  TeamLaunch  \\\n",
       "0                 33        23   93     0.136943        1929   \n",
       "1                 25        25   93     0.138086        1929   \n",
       "2                 10         8   93     0.129949        1929   \n",
       "3                  6         6   91     0.123955        1931   \n",
       "4                  8         7   93     0.116216        1929   \n",
       "\n",
       "   HighestPositionHeld  \n",
       "0                    1  \n",
       "1                    1  \n",
       "2                    1  \n",
       "3                    1  \n",
       "4                    1  "
      ]
     },
     "execution_count": 220,
     "metadata": {},
     "output_type": "execute_result"
    }
   ],
   "source": [
    "df_Number_of_years = 2022-df['TeamLaunch'] \n",
    "df.insert(loc=13, column='Age', value=df_Number_of_years )\n",
    "df.head()"
   ]
  },
  {
   "cell_type": "code",
   "execution_count": 224,
   "id": "49fda7ac",
   "metadata": {},
   "outputs": [
    {
     "data": {
      "image/png": "[encoded data removed]",
      "text/plain": [
       "<Figure size 1440x1080 with 1 Axes>"
      ]
     },
     "metadata": {
      "needs_background": "light"
     },
     "output_type": "display_data"
    }
   ],
   "source": [
    "plt.figure(figsize=(20,15))\n",
    "sns.scatterplot(df.Team,df.Age)\n",
    "plt.xticks(rotation=90)\n",
    "plt.show()"
   ]
  },
  {
   "cell_type": "markdown",
   "id": "00db8e51",
   "metadata": {},
   "source": [
    "By using  the factor of age we are trying to find which team is  the 'Oldest', on analysing this we can get to know about the form of the players, strategies used in the past and other factors which can be used for predicting the team performance."
   ]
  },
  {
   "cell_type": "markdown",
   "id": "5455912c",
   "metadata": {},
   "source": [
    "From the above plot, we can infer that Team 1,2, 3 & 5 are the oldest teams havong age more than 90 years\n",
    "and the Team 61 is new one having age less than 10 years"
   ]
  },
  {
   "cell_type": "raw",
   "id": "b2b510f5",
   "metadata": {},
   "source": [
    "CONCLUSION"
   ]
  },
  {
   "cell_type": "markdown",
   "id": "8aeeed8d",
   "metadata": {},
   "source": [
    "The Observation Report for the Company to understand the status of the teams at present which is determined by using the past data given"
   ]
  },
  {
   "cell_type": "markdown",
   "id": "912c8e14",
   "metadata": {},
   "source": [
    "1. Team 1,2 & 3 played the most tournament matches.\n",
    "\n",
    "2. Team 1,2 & 3 have been the Tournament champions for more than 30 years which shows that the Team1,2 and 3 are still in the form  and they also had a good amount of experience in the field.\n",
    "\n",
    "3. On seeing the overall performance of all teams played, we understand some teams are performing very low. By the observations from the plots and graphs above, we found that the Team 7 has very low performance.\n",
    "\n",
    "4. We found the oldest of the Teams, This factor decides some of the sub-factors for winning the matches.\n",
    "\n",
    "   sub-factors include:\n",
    "   1. Form of the players\n",
    "   2. Experience they had in the field\n",
    "   3. strategies they used in the past\n",
    "\n",
    "5. On calculating the winning ratio and winning percentages we observe that Team 1 to 10 have perfromed well and we also found that Team 44 performs in a poor manner."
   ]
  },
  {
   "cell_type": "markdown",
   "id": "a6ac1e3e",
   "metadata": {},
   "source": [
    "Recommendations given to the company"
   ]
  },
  {
   "cell_type": "markdown",
   "id": "7c13242e",
   "metadata": {},
   "source": [
    "1. As the company is planning to invest in the Team which will win in the future. So We recommend the company to invest in Teams   from 1 to 10\n",
    "\n",
    "2. Among the Teams from 1 to 10 , we would like to recommend the company with the teams Team 1, 2 and 3 as they have played most   number of matches through which we understand they are most experienced in the American League.\n",
    "\n",
    "3. Since Team 44 has poor performance in almost all the matches, we are recommending the Company X not to invest in Team 44. If done the company has to incurr the loss in future."
   ]
  },
  {
   "cell_type": "markdown",
   "id": "f17b538f",
   "metadata": {},
   "source": [
    "# STATISTICS"
   ]
  },
  {
   "cell_type": "markdown",
   "id": "d5dfd69d",
   "metadata": {},
   "source": [
    "The following are the ages of 30 customers who ordered an EV scooter from Zen\n",
    "Automotives"
   ]
  },
  {
   "cell_type": "markdown",
   "id": "d043ad98",
   "metadata": {},
   "source": [
    "42 44 62 35 20\n",
    "30 56 20 23 41\n",
    "55 22 31 27 66\n",
    "21 18 24 42 25\n",
    "32 50 31 26 36\n",
    "39 40 18 36 22"
   ]
  },
  {
   "cell_type": "markdown",
   "id": "2f6674af",
   "metadata": {},
   "source": [
    "Import necessary libraries"
   ]
  },
  {
   "cell_type": "code",
   "execution_count": 6,
   "id": "b7a6347d",
   "metadata": {},
   "outputs": [],
   "source": [
    "from statistics import mean\n",
    "from statistics import median\n",
    "from statistics import mode\n",
    "from scipy import stats\n",
    "import numpy as np\n",
    "import pandas as pd\n",
    "import matplotlib.pyplot as plt\n",
    "get_ipython().run_line_magic('matplotlib', 'inline')\n",
    "import seaborn as sns\n",
    "from warnings import filterwarnings\n",
    "filterwarnings('ignore')\n",
    "import statistics as st\n",
    "import random"
   ]
  },
  {
   "cell_type": "markdown",
   "id": "9b7408ca",
   "metadata": {},
   "source": [
    "Creating and storing the given dataset in a dataframe"
   ]
  },
  {
   "cell_type": "code",
   "execution_count": 17,
   "id": "61189c90",
   "metadata": {},
   "outputs": [
    {
     "data": {
      "text/html": [
       "<div>\n",
       "<style scoped>\n",
       "    .dataframe tbody tr th:only-of-type {\n",
       "        vertical-align: middle;\n",
       "    }\n",
       "\n",
       "    .dataframe tbody tr th {\n",
       "        vertical-align: top;\n",
       "    }\n",
       "\n",
       "    .dataframe thead th {\n",
       "        text-align: right;\n",
       "    }\n",
       "</style>\n",
       "<table border=\"1\" class=\"dataframe\">\n",
       "  <thead>\n",
       "    <tr style=\"text-align: right;\">\n",
       "      <th></th>\n",
       "      <th>Age</th>\n",
       "    </tr>\n",
       "  </thead>\n",
       "  <tbody>\n",
       "    <tr>\n",
       "      <th>0</th>\n",
       "      <td>42</td>\n",
       "    </tr>\n",
       "    <tr>\n",
       "      <th>1</th>\n",
       "      <td>44</td>\n",
       "    </tr>\n",
       "    <tr>\n",
       "      <th>2</th>\n",
       "      <td>62</td>\n",
       "    </tr>\n",
       "    <tr>\n",
       "      <th>3</th>\n",
       "      <td>35</td>\n",
       "    </tr>\n",
       "    <tr>\n",
       "      <th>4</th>\n",
       "      <td>20</td>\n",
       "    </tr>\n",
       "  </tbody>\n",
       "</table>\n",
       "</div>"
      ],
      "text/plain": [
       "   Age\n",
       "0   42\n",
       "1   44\n",
       "2   62\n",
       "3   35\n",
       "4   20"
      ]
     },
     "execution_count": 17,
     "metadata": {},
     "output_type": "execute_result"
    }
   ],
   "source": [
    "age=[42,44,62, 35, 20, 30, 56, 20, 23, 41, 55, 22, 31, 27, 66, 21, 18, 24, 42, 25,32, 50,31, 26, 36, 39, 40, 18, 36, 22]\n",
    "df_age=pd.DataFrame(age, columns=['Age'])\n",
    "df_age.head()"
   ]
  },
  {
   "cell_type": "markdown",
   "id": "633e642d",
   "metadata": {},
   "source": [
    "Q1. Compute the mean, median and the mode of the data"
   ]
  },
  {
   "cell_type": "code",
   "execution_count": 137,
   "id": "8571be14",
   "metadata": {},
   "outputs": [
    {
     "name": "stdout",
     "output_type": "stream",
     "text": [
      "Mean of the data is Age    34.466667\n",
      "dtype: float64\n"
     ]
    }
   ],
   "source": [
    "mean=df_age.mean()\n",
    "print('Mean of the data is',mean)"
   ]
  },
  {
   "cell_type": "code",
   "execution_count": 139,
   "id": "6c3ae220",
   "metadata": {},
   "outputs": [
    {
     "name": "stdout",
     "output_type": "stream",
     "text": [
      "Median of the data is Age    31.5\n",
      "dtype: float64\n"
     ]
    }
   ],
   "source": [
    "median=df_age.median()\n",
    "print('Median of the data is',median)"
   ]
  },
  {
   "cell_type": "code",
   "execution_count": 140,
   "id": "f0010b8f",
   "metadata": {},
   "outputs": [
    {
     "name": "stdout",
     "output_type": "stream",
     "text": [
      "Mode of the data is    Age\n",
      "0   18\n",
      "1   20\n",
      "2   22\n",
      "3   31\n",
      "4   36\n",
      "5   42\n"
     ]
    }
   ],
   "source": [
    "mode=df_age.mode()\n",
    "print('Mode of the data is',mode)"
   ]
  },
  {
   "cell_type": "markdown",
   "id": "8e0cf123",
   "metadata": {},
   "source": [
    "Solution: \n",
    "    1. Mean of the data is 34.466667\n",
    "    2. Median of the data is 31.5\n",
    "    3. Mode of the data is 18,20,22,31,36,42\n",
    "Since mean and median is very close, we can infer that there is no much effect on central tendency of the data. "
   ]
  },
  {
   "cell_type": "markdown",
   "id": "9194711e",
   "metadata": {},
   "source": [
    "Q2. Compute the range , variance and standard deviation of customer ages"
   ]
  },
  {
   "cell_type": "markdown",
   "id": "0d47f3e4",
   "metadata": {},
   "source": [
    "RANGE"
   ]
  },
  {
   "cell_type": "code",
   "execution_count": 142,
   "id": "8157f1e2",
   "metadata": {},
   "outputs": [],
   "source": [
    "max=df_age.max()"
   ]
  },
  {
   "cell_type": "code",
   "execution_count": 143,
   "id": "fe3d5ae0",
   "metadata": {},
   "outputs": [],
   "source": [
    "min=df_age.min()"
   ]
  },
  {
   "cell_type": "code",
   "execution_count": 174,
   "id": "72a0c7d1",
   "metadata": {},
   "outputs": [
    {
     "name": "stdout",
     "output_type": "stream",
     "text": [
      "The range is Age    48\n",
      "dtype: int64\n"
     ]
    }
   ],
   "source": [
    "range=max-min\n",
    "print('The range is', range)"
   ]
  },
  {
   "cell_type": "markdown",
   "id": "7c5c75de",
   "metadata": {},
   "source": [
    "STANDARD DEVIATION"
   ]
  },
  {
   "cell_type": "code",
   "execution_count": 147,
   "id": "b134c508",
   "metadata": {},
   "outputs": [
    {
     "name": "stdout",
     "output_type": "stream",
     "text": [
      "The Standard deviation is Age    13.317692\n",
      "dtype: float64\n"
     ]
    }
   ],
   "source": [
    "std=df_age.std()\n",
    "print('The Standard deviation is', std)"
   ]
  },
  {
   "cell_type": "markdown",
   "id": "4e11e888",
   "metadata": {},
   "source": [
    "VARIANCE"
   ]
  },
  {
   "cell_type": "code",
   "execution_count": 148,
   "id": "74cc608e",
   "metadata": {},
   "outputs": [
    {
     "name": "stdout",
     "output_type": "stream",
     "text": [
      "The variance is Age    3.649341\n",
      "dtype: float64\n"
     ]
    }
   ],
   "source": [
    "variance=(std)**0.5\n",
    "print('The variance is', variance)"
   ]
  },
  {
   "cell_type": "markdown",
   "id": "33301203",
   "metadata": {},
   "source": [
    "Solution: \n",
    "    1. The range is 48\n",
    "    2. The variance is 3.649341\n",
    "    3. The variance is 3.649341"
   ]
  },
  {
   "cell_type": "markdown",
   "id": "b6363cb7",
   "metadata": {},
   "source": [
    "Q3. Find the mean deviation for the data"
   ]
  },
  {
   "cell_type": "code",
   "execution_count": 150,
   "id": "1eb4fef2",
   "metadata": {},
   "outputs": [
    {
     "name": "stdout",
     "output_type": "stream",
     "text": [
      "The mean deviation is Age    10.764444\n",
      "dtype: float64\n"
     ]
    }
   ],
   "source": [
    "mean_dev = df_age.mad()\n",
    "print('The mean deviation is', mean_dev)"
   ]
  },
  {
   "cell_type": "markdown",
   "id": "741f0b69",
   "metadata": {},
   "source": [
    "Solution: The mean deviation is 10.764444"
   ]
  },
  {
   "cell_type": "markdown",
   "id": "4543e65a",
   "metadata": {},
   "source": [
    "Q4. Calculate the Pearson coefficient of skewness and comment on the\n",
    "skewness of the data"
   ]
  },
  {
   "cell_type": "code",
   "execution_count": 69,
   "id": "7a475b60",
   "metadata": {},
   "outputs": [
    {
     "data": {
      "text/plain": [
       "Age    0.795716\n",
       "dtype: float64"
      ]
     },
     "execution_count": 69,
     "metadata": {},
     "output_type": "execute_result"
    }
   ],
   "source": [
    "df_age.skew()"
   ]
  },
  {
   "cell_type": "code",
   "execution_count": 156,
   "id": "5e9b4778",
   "metadata": {},
   "outputs": [
    {
     "data": {
      "text/plain": [
       "Age    0.668284\n",
       "dtype: float64"
      ]
     },
     "execution_count": 156,
     "metadata": {},
     "output_type": "execute_result"
    }
   ],
   "source": [
    "Pc = (3*(mean-median))/std\n",
    "Pc"
   ]
  },
  {
   "cell_type": "markdown",
   "id": "5a9ebb0f",
   "metadata": {},
   "source": [
    " Comment : The distribution is\n",
    "positively skewed , the coefficient is positive"
   ]
  },
  {
   "cell_type": "markdown",
   "id": "6f284891",
   "metadata": {},
   "source": [
    "Q5. Count the number of data values that fall within two standard deviations of\n",
    "the mean. Compare this with the answer from Chebyshev’s Theorem."
   ]
  },
  {
   "cell_type": "code",
   "execution_count": 170,
   "id": "6c57f0ee",
   "metadata": {},
   "outputs": [
    {
     "data": {
      "text/plain": [
       "Age    0.953551\n",
       "dtype: float64"
      ]
     },
     "execution_count": 170,
     "metadata": {},
     "output_type": "execute_result"
    }
   ],
   "source": [
    "1-(1/(mean_dev*2))"
   ]
  },
  {
   "cell_type": "code",
   "execution_count": 172,
   "id": "7a127a5f",
   "metadata": {},
   "outputs": [
    {
     "data": {
      "text/plain": [
       "22"
      ]
     },
     "execution_count": 172,
     "metadata": {},
     "output_type": "execute_result"
    }
   ],
   "source": [
    "round((3/4)*30)"
   ]
  },
  {
   "cell_type": "code",
   "execution_count": 164,
   "id": "91ba8d4b",
   "metadata": {},
   "outputs": [
    {
     "data": {
      "text/plain": [
       "Age    26.635384\n",
       "dtype: float64"
      ]
     },
     "execution_count": 164,
     "metadata": {},
     "output_type": "execute_result"
    }
   ],
   "source": [
    "rev_std=std*2\n",
    "rev_std"
   ]
  },
  {
   "cell_type": "code",
   "execution_count": 165,
   "id": "6953de05",
   "metadata": {},
   "outputs": [],
   "source": [
    "r1=mean-rev_std\n",
    "r2=mean+rev_std"
   ]
  },
  {
   "cell_type": "code",
   "execution_count": 166,
   "id": "ad6225f8",
   "metadata": {},
   "outputs": [
    {
     "data": {
      "text/plain": [
       "Age    7.831283\n",
       "dtype: float64"
      ]
     },
     "execution_count": 166,
     "metadata": {},
     "output_type": "execute_result"
    }
   ],
   "source": [
    "r1"
   ]
  },
  {
   "cell_type": "code",
   "execution_count": 167,
   "id": "06da9022",
   "metadata": {},
   "outputs": [
    {
     "data": {
      "text/plain": [
       "Age    61.102051\n",
       "dtype: float64"
      ]
     },
     "execution_count": 167,
     "metadata": {},
     "output_type": "execute_result"
    }
   ],
   "source": [
    "r2"
   ]
  },
  {
   "cell_type": "code",
   "execution_count": 169,
   "id": "fc26bf1d",
   "metadata": {},
   "outputs": [
    {
     "data": {
      "text/plain": [
       "Age    53.270768\n",
       "dtype: float64"
      ]
     },
     "execution_count": 169,
     "metadata": {},
     "output_type": "execute_result"
    }
   ],
   "source": [
    "data_val=r2-r1\n",
    "data_val"
   ]
  },
  {
   "cell_type": "markdown",
   "id": "82609a5e",
   "metadata": {},
   "source": [
    "According to Chebyshev’s Theorem, the number of data values that fall within two standard deviations of the mean is 22. The limits are 7.83 and 61.10"
   ]
  },
  {
   "cell_type": "markdown",
   "id": "ffcbdab3",
   "metadata": {},
   "source": [
    "According to Chebyshev’s Theorem, at least 3/4 of the data lie within two standard deviations of the mean, that is, in the interval with endpoints x(bar)±2s for samples and with endpoints μ±2σ for populations."
   ]
  },
  {
   "cell_type": "markdown",
   "id": "a1618eee",
   "metadata": {},
   "source": [
    "Q6. Find the three quartiles and the interquartile range (IQR)."
   ]
  },
  {
   "cell_type": "code",
   "execution_count": null,
   "id": "f060ee9a",
   "metadata": {},
   "outputs": [],
   "source": [
    "q1=np.percentile(age)"
   ]
  },
  {
   "cell_type": "code",
   "execution_count": 160,
   "id": "7761d949",
   "metadata": {},
   "outputs": [
    {
     "name": "stdout",
     "output_type": "stream",
     "text": [
      "Q1 = Age    23.25\n",
      "Name: 0.25, dtype: float64\n",
      "Q3 = Age    41.75\n",
      "Name: 0.75, dtype: float64\n",
      "IQR = Age    18.5\n",
      "dtype: float64\n"
     ]
    }
   ],
   "source": [
    "q1= df_age.quantile(0.25)\n",
    "q3 =df_age.quantile(0.75)\n",
    "iqr = q3 - q1\n",
    "print('Q1','=',q1)\n",
    "print('Q3','=',q3)\n",
    "print('IQR','=', iqr)"
   ]
  },
  {
   "cell_type": "markdown",
   "id": "c14d6cc7",
   "metadata": {},
   "source": [
    "Solution: \n",
    "    First quantile =23.25\n",
    "    Third quantile range =41.75\n",
    "    Inter quartile range =18.15"
   ]
  },
  {
   "cell_type": "markdown",
   "id": "c09ebddf",
   "metadata": {},
   "source": [
    "Q7. Are there any outliers in the data set ?"
   ]
  },
  {
   "cell_type": "code",
   "execution_count": 29,
   "id": "52214921",
   "metadata": {},
   "outputs": [
    {
     "data": {
      "text/plain": [
       "<AxesSubplot:>"
      ]
     },
     "execution_count": 29,
     "metadata": {},
     "output_type": "execute_result"
    },
    {
     "data": {
      "image/png": "[encoded data removed]",
      "text/plain": [
       "<Figure size 432x288 with 1 Axes>"
      ]
     },
     "metadata": {
      "needs_background": "light"
     },
     "output_type": "display_data"
    }
   ],
   "source": [
    "sns.scatterplot(data=df_age)"
   ]
  },
  {
   "cell_type": "markdown",
   "id": "f26ec496",
   "metadata": {},
   "source": [
    "Q8. Draw a boxplot of the dataset to confirm"
   ]
  },
  {
   "cell_type": "code",
   "execution_count": 12,
   "id": "278f1210",
   "metadata": {},
   "outputs": [
    {
     "data": {
      "text/plain": [
       "<AxesSubplot:>"
      ]
     },
     "execution_count": 12,
     "metadata": {},
     "output_type": "execute_result"
    },
    {
     "data": {
      "image/png": "[encoded data removed]",
      "text/plain": [
       "<Figure size 432x288 with 1 Axes>"
      ]
     },
     "metadata": {
      "needs_background": "light"
     },
     "output_type": "display_data"
    }
   ],
   "source": [
    "sns.boxplot(data=df_age)"
   ]
  },
  {
   "cell_type": "markdown",
   "id": "85c24a48",
   "metadata": {},
   "source": [
    "Solution: There are no outliers present in the data"
   ]
  },
  {
   "cell_type": "markdown",
   "id": "b5885858",
   "metadata": {},
   "source": [
    "Q9. Find the percentile rank of the datapoint 50"
   ]
  },
  {
   "cell_type": "code",
   "execution_count": 30,
   "id": "b6debc46",
   "metadata": {},
   "outputs": [
    {
     "data": {
      "text/html": [
       "<div>\n",
       "<style scoped>\n",
       "    .dataframe tbody tr th:only-of-type {\n",
       "        vertical-align: middle;\n",
       "    }\n",
       "\n",
       "    .dataframe tbody tr th {\n",
       "        vertical-align: top;\n",
       "    }\n",
       "\n",
       "    .dataframe thead th {\n",
       "        text-align: right;\n",
       "    }\n",
       "</style>\n",
       "<table border=\"1\" class=\"dataframe\">\n",
       "  <thead>\n",
       "    <tr style=\"text-align: right;\">\n",
       "      <th></th>\n",
       "      <th>Age</th>\n",
       "      <th>Percentile Rank</th>\n",
       "    </tr>\n",
       "  </thead>\n",
       "  <tbody>\n",
       "    <tr>\n",
       "      <th>0</th>\n",
       "      <td>42</td>\n",
       "      <td>0.783333</td>\n",
       "    </tr>\n",
       "    <tr>\n",
       "      <th>1</th>\n",
       "      <td>44</td>\n",
       "      <td>0.833333</td>\n",
       "    </tr>\n",
       "    <tr>\n",
       "      <th>2</th>\n",
       "      <td>62</td>\n",
       "      <td>0.966667</td>\n",
       "    </tr>\n",
       "    <tr>\n",
       "      <th>3</th>\n",
       "      <td>35</td>\n",
       "      <td>0.566667</td>\n",
       "    </tr>\n",
       "    <tr>\n",
       "      <th>4</th>\n",
       "      <td>20</td>\n",
       "      <td>0.116667</td>\n",
       "    </tr>\n",
       "    <tr>\n",
       "      <th>5</th>\n",
       "      <td>30</td>\n",
       "      <td>0.433333</td>\n",
       "    </tr>\n",
       "    <tr>\n",
       "      <th>6</th>\n",
       "      <td>56</td>\n",
       "      <td>0.933333</td>\n",
       "    </tr>\n",
       "    <tr>\n",
       "      <th>7</th>\n",
       "      <td>20</td>\n",
       "      <td>0.116667</td>\n",
       "    </tr>\n",
       "    <tr>\n",
       "      <th>8</th>\n",
       "      <td>23</td>\n",
       "      <td>0.266667</td>\n",
       "    </tr>\n",
       "    <tr>\n",
       "      <th>9</th>\n",
       "      <td>41</td>\n",
       "      <td>0.733333</td>\n",
       "    </tr>\n",
       "    <tr>\n",
       "      <th>10</th>\n",
       "      <td>55</td>\n",
       "      <td>0.900000</td>\n",
       "    </tr>\n",
       "    <tr>\n",
       "      <th>11</th>\n",
       "      <td>22</td>\n",
       "      <td>0.216667</td>\n",
       "    </tr>\n",
       "    <tr>\n",
       "      <th>12</th>\n",
       "      <td>31</td>\n",
       "      <td>0.483333</td>\n",
       "    </tr>\n",
       "    <tr>\n",
       "      <th>13</th>\n",
       "      <td>27</td>\n",
       "      <td>0.400000</td>\n",
       "    </tr>\n",
       "    <tr>\n",
       "      <th>14</th>\n",
       "      <td>66</td>\n",
       "      <td>1.000000</td>\n",
       "    </tr>\n",
       "    <tr>\n",
       "      <th>15</th>\n",
       "      <td>21</td>\n",
       "      <td>0.166667</td>\n",
       "    </tr>\n",
       "    <tr>\n",
       "      <th>16</th>\n",
       "      <td>18</td>\n",
       "      <td>0.050000</td>\n",
       "    </tr>\n",
       "    <tr>\n",
       "      <th>17</th>\n",
       "      <td>24</td>\n",
       "      <td>0.300000</td>\n",
       "    </tr>\n",
       "    <tr>\n",
       "      <th>18</th>\n",
       "      <td>42</td>\n",
       "      <td>0.783333</td>\n",
       "    </tr>\n",
       "    <tr>\n",
       "      <th>19</th>\n",
       "      <td>25</td>\n",
       "      <td>0.333333</td>\n",
       "    </tr>\n",
       "    <tr>\n",
       "      <th>20</th>\n",
       "      <td>32</td>\n",
       "      <td>0.533333</td>\n",
       "    </tr>\n",
       "    <tr>\n",
       "      <th>21</th>\n",
       "      <td>50</td>\n",
       "      <td>0.866667</td>\n",
       "    </tr>\n",
       "    <tr>\n",
       "      <th>22</th>\n",
       "      <td>31</td>\n",
       "      <td>0.483333</td>\n",
       "    </tr>\n",
       "    <tr>\n",
       "      <th>23</th>\n",
       "      <td>26</td>\n",
       "      <td>0.366667</td>\n",
       "    </tr>\n",
       "    <tr>\n",
       "      <th>24</th>\n",
       "      <td>36</td>\n",
       "      <td>0.616667</td>\n",
       "    </tr>\n",
       "    <tr>\n",
       "      <th>25</th>\n",
       "      <td>39</td>\n",
       "      <td>0.666667</td>\n",
       "    </tr>\n",
       "    <tr>\n",
       "      <th>26</th>\n",
       "      <td>40</td>\n",
       "      <td>0.700000</td>\n",
       "    </tr>\n",
       "    <tr>\n",
       "      <th>27</th>\n",
       "      <td>18</td>\n",
       "      <td>0.050000</td>\n",
       "    </tr>\n",
       "    <tr>\n",
       "      <th>28</th>\n",
       "      <td>36</td>\n",
       "      <td>0.616667</td>\n",
       "    </tr>\n",
       "    <tr>\n",
       "      <th>29</th>\n",
       "      <td>22</td>\n",
       "      <td>0.216667</td>\n",
       "    </tr>\n",
       "  </tbody>\n",
       "</table>\n",
       "</div>"
      ],
      "text/plain": [
       "    Age  Percentile Rank\n",
       "0    42         0.783333\n",
       "1    44         0.833333\n",
       "2    62         0.966667\n",
       "3    35         0.566667\n",
       "4    20         0.116667\n",
       "5    30         0.433333\n",
       "6    56         0.933333\n",
       "7    20         0.116667\n",
       "8    23         0.266667\n",
       "9    41         0.733333\n",
       "10   55         0.900000\n",
       "11   22         0.216667\n",
       "12   31         0.483333\n",
       "13   27         0.400000\n",
       "14   66         1.000000\n",
       "15   21         0.166667\n",
       "16   18         0.050000\n",
       "17   24         0.300000\n",
       "18   42         0.783333\n",
       "19   25         0.333333\n",
       "20   32         0.533333\n",
       "21   50         0.866667\n",
       "22   31         0.483333\n",
       "23   26         0.366667\n",
       "24   36         0.616667\n",
       "25   39         0.666667\n",
       "26   40         0.700000\n",
       "27   18         0.050000\n",
       "28   36         0.616667\n",
       "29   22         0.216667"
      ]
     },
     "execution_count": 30,
     "metadata": {},
     "output_type": "execute_result"
    }
   ],
   "source": [
    "df_age['Percentile Rank'] = df_age.Age.rank(pct = True)\n",
    "df_age"
   ]
  },
  {
   "cell_type": "code",
   "execution_count": 31,
   "id": "2aebe78c",
   "metadata": {},
   "outputs": [
    {
     "data": {
      "text/html": [
       "<div>\n",
       "<style scoped>\n",
       "    .dataframe tbody tr th:only-of-type {\n",
       "        vertical-align: middle;\n",
       "    }\n",
       "\n",
       "    .dataframe tbody tr th {\n",
       "        vertical-align: top;\n",
       "    }\n",
       "\n",
       "    .dataframe thead th {\n",
       "        text-align: right;\n",
       "    }\n",
       "</style>\n",
       "<table border=\"1\" class=\"dataframe\">\n",
       "  <thead>\n",
       "    <tr style=\"text-align: right;\">\n",
       "      <th></th>\n",
       "      <th>Age</th>\n",
       "      <th>Percentile Rank</th>\n",
       "    </tr>\n",
       "  </thead>\n",
       "  <tbody>\n",
       "    <tr>\n",
       "      <th>21</th>\n",
       "      <td>50</td>\n",
       "      <td>0.866667</td>\n",
       "    </tr>\n",
       "  </tbody>\n",
       "</table>\n",
       "</div>"
      ],
      "text/plain": [
       "    Age  Percentile Rank\n",
       "21   50         0.866667"
      ]
     },
     "execution_count": 31,
     "metadata": {},
     "output_type": "execute_result"
    }
   ],
   "source": [
    "df_age[df_age['Age']==50]"
   ]
  },
  {
   "cell_type": "markdown",
   "id": "18d94fa3",
   "metadata": {},
   "source": [
    "Solution: Percentile rank for 50th data point is 0.866667"
   ]
  },
  {
   "cell_type": "markdown",
   "id": "6622b4a7",
   "metadata": {},
   "source": [
    "Q11. Create a frequency distribution for the data and visualize it appropriately"
   ]
  },
  {
   "cell_type": "code",
   "execution_count": 37,
   "id": "2fce88f9",
   "metadata": {},
   "outputs": [],
   "source": [
    "df_age.drop(columns='Percentile Rank', inplace=True)"
   ]
  },
  {
   "cell_type": "code",
   "execution_count": 38,
   "id": "a478ab01",
   "metadata": {},
   "outputs": [
    {
     "data": {
      "text/plain": [
       "<AxesSubplot:ylabel='Count'>"
      ]
     },
     "execution_count": 38,
     "metadata": {},
     "output_type": "execute_result"
    },
    {
     "data": {
      "image/png": "[encoded data removed]",
      "text/plain": [
       "<Figure size 432x288 with 1 Axes>"
      ]
     },
     "metadata": {
      "needs_background": "light"
     },
     "output_type": "display_data"
    }
   ],
   "source": [
    "sns.histplot(data=df_age)"
   ]
  },
  {
   "cell_type": "markdown",
   "id": "68ead064",
   "metadata": {},
   "source": [
    "Solution: Frequency distribution for the data is right skewed"
   ]
  },
  {
   "cell_type": "markdown",
   "id": "74c6c43b",
   "metadata": {},
   "source": [
    "Q12. Create a probability distribution of the data and visualize it appropriately"
   ]
  },
  {
   "cell_type": "code",
   "execution_count": 40,
   "id": "d642af83",
   "metadata": {},
   "outputs": [
    {
     "data": {
      "text/plain": [
       "<AxesSubplot:ylabel='Density'>"
      ]
     },
     "execution_count": 40,
     "metadata": {},
     "output_type": "execute_result"
    },
    {
     "data": {
      "image/png": "[encoded data removed]",
      "text/plain": [
       "<Figure size 432x288 with 1 Axes>"
      ]
     },
     "metadata": {
      "needs_background": "light"
     },
     "output_type": "display_data"
    }
   ],
   "source": [
    "sns.distplot(df_age)"
   ]
  },
  {
   "cell_type": "markdown",
   "id": "3a1d4a47",
   "metadata": {},
   "source": [
    "Solution: Probability distribution for the data is right skewed"
   ]
  },
  {
   "cell_type": "markdown",
   "id": "f31bf171",
   "metadata": {},
   "source": [
    "Q13. What is the shape of the distribution of this dataset? Create an\n",
    "appropriate graph to determine that. Take 100 random samples with\n",
    "replacement from this dataset of size 5 each. Create a sampling distribution of\n",
    "the mean age of customers. Compare with other sampling distributions of\n",
    "sample size 10, 15, 20, 25, 30. State your observations. Does it corroborate\n",
    "the Central Limit Theorem?"
   ]
  },
  {
   "cell_type": "code",
   "execution_count": 74,
   "id": "9795637e",
   "metadata": {},
   "outputs": [
    {
     "name": "stdout",
     "output_type": "stream",
     "text": [
      "Sample with replacement: [32, 35, 40, 27, 20, 41, 20, 22, 62, 44, 66, 18, 24, 26, 36, 25, 18, 42, 18, 66, 40, 50, 20, 30, 56, 42, 31, 24, 36, 66, 31, 42, 50, 18, 31, 24, 66, 31, 22, 56, 31, 40, 55, 23, 56, 42, 62, 56, 23, 36, 41, 66, 18, 32, 66, 42, 20, 44, 40, 36, 35, 66, 20, 44, 18, 20, 22, 22, 18, 41, 62, 35, 20, 18, 22, 66, 42, 41, 56, 66, 31, 18, 42, 44, 40, 31, 42, 35, 25, 26, 42, 31, 40, 20, 36, 25, 39, 23, 21, 22]\n"
     ]
    }
   ],
   "source": [
    "# given population\n",
    "\n",
    "\n",
    "# pass the data to the parameter, 'population'\n",
    "# pass the required sample size to the parameter, 'k' \n",
    "sample_wr = random.choices(population = age, k = 100)\n",
    "\n",
    "# print the sample\n",
    "print('Sample with replacement:', sample_wr)"
   ]
  },
  {
   "cell_type": "code",
   "execution_count": 75,
   "id": "ce2d4553",
   "metadata": {},
   "outputs": [
    {
     "data": {
      "image/png": "[encoded data removed]",
      "text/plain": [
       "<Figure size 432x288 with 1 Axes>"
      ]
     },
     "metadata": {
      "needs_background": "light"
     },
     "output_type": "display_data"
    }
   ],
   "source": [
    "# create a sampling distribution from the above population with replacement\n",
    "# first we define the number of samples to be drawn \n",
    "n_samples=100\n",
    "\n",
    "# create an empty list to store the means of each sample\n",
    "sample_means = []\n",
    "\n",
    "# create a for loop to get the sample means array\n",
    "for i in range(n_samples):\n",
    "    # generates a random sample of size 100 from the population array\n",
    "    sample = np.random.choice(sample_wr, size=5, replace=True)\n",
    "        \n",
    "    # calculate the mean of the sample data\n",
    "    sample_mean = np.mean(sample)\n",
    "        \n",
    "    # append the mean to the list\n",
    "    sample_means.append(sample_mean) \n",
    "    \n",
    "# plot the distribution of the sample means \n",
    "sns.distplot(sample_means)\n",
    "\n",
    "# give the graph a title\n",
    "plt.title(\"Sampling Distribution\", fontsize=15)\n",
    "\n",
    "# display the graph\n",
    "plt.show()"
   ]
  },
  {
   "cell_type": "code",
   "execution_count": 89,
   "id": "b611dd75",
   "metadata": {},
   "outputs": [
    {
     "data": {
      "image/png": "[encoded data removed]",
      "text/plain": [
       "<Figure size 432x288 with 1 Axes>"
      ]
     },
     "metadata": {
      "needs_background": "light"
     },
     "output_type": "display_data"
    }
   ],
   "source": [
    "# import the required function\n",
    "from scipy.stats import norm\n",
    "\n",
    "# set the seed for reproducibility\n",
    "np.random.seed(1)\n",
    "# create a normal distribution population of size 100\n",
    "normal_pop = norm.rvs(0, 1, size=100000)\n",
    "# visualize the normal distribution\n",
    "plt.hist(normal_pop, 100)\n",
    "plt.title(\"Normal Distribution Population\")\n",
    "plt.xlabel(\"X~N(0,1)\")\n",
    "plt.ylabel(\"Count\")\n",
    "plt.show()"
   ]
  },
  {
   "cell_type": "code",
   "execution_count": 79,
   "id": "f2a71ef1",
   "metadata": {},
   "outputs": [
    {
     "data": {
      "image/png": "[encoded data removed]",
      "text/plain": [
       "<Figure size 360x360 with 1 Axes>"
      ]
     },
     "metadata": {
      "needs_background": "light"
     },
     "output_type": "display_data"
    }
   ],
   "source": [
    "np.random.seed(1)\n",
    "# set the sample size to 10\n",
    "n = 10\n",
    "# list to store sample means\n",
    "sample_means = []\n",
    "# iterate the loop to draw multiple samples\n",
    "for j in range(100):\n",
    "  # draw a sample of size n\n",
    "  sample = np.random.choice(normal_pop, size = n)\n",
    "  # calculate the sample mean\n",
    "  sample_mean = np.mean(sample)\n",
    "  # append the sample mean to the sample_means list\n",
    "  sample_means.append(sample_mean)\n",
    "# plot the histogram of sample means\n",
    "sns.displot(sample_means, kde = True)\n",
    "plt.title('Distribution of Sample Means for n = ' + str(n))\n",
    "plt.xlabel('sample mean')\n",
    "plt.ylabel('count')\n",
    "plt.show()"
   ]
  },
  {
   "cell_type": "code",
   "execution_count": 80,
   "id": "2a17d058",
   "metadata": {},
   "outputs": [
    {
     "data": {
      "image/png": "[encoded data removed]",
      "text/plain": [
       "<Figure size 360x360 with 1 Axes>"
      ]
     },
     "metadata": {
      "needs_background": "light"
     },
     "output_type": "display_data"
    }
   ],
   "source": [
    "np.random.seed(1)\n",
    "# set the sample size to 15\n",
    "n = 15\n",
    "# list to store sample means\n",
    "sample_means = []\n",
    "# iterate the loop to draw multiple samples\n",
    "for j in range(100):\n",
    "  # draw a sample of size n\n",
    "  sample = np.random.choice(normal_pop, size = n)\n",
    "  # calculate the sample mean\n",
    "  sample_mean = np.mean(sample)\n",
    "  # append the sample mean to the sample_means list\n",
    "  sample_means.append(sample_mean)\n",
    "# plot the histogram of sample means\n",
    "sns.displot(sample_means, kde = True)\n",
    "plt.title('Distribution of Sample Means for n = ' + str(n))\n",
    "plt.xlabel('sample mean')\n",
    "plt.ylabel('count')\n",
    "plt.show()"
   ]
  },
  {
   "cell_type": "code",
   "execution_count": 81,
   "id": "355ff3fd",
   "metadata": {},
   "outputs": [
    {
     "data": {
      "image/png": "[encoded data removed]",
      "text/plain": [
       "<Figure size 360x360 with 1 Axes>"
      ]
     },
     "metadata": {
      "needs_background": "light"
     },
     "output_type": "display_data"
    }
   ],
   "source": [
    "np.random.seed(1)\n",
    "# set the sample size to 20\n",
    "n = 20\n",
    "# list to store sample means\n",
    "sample_means = []\n",
    "# iterate the loop to draw multiple samples\n",
    "for j in range(100):\n",
    "  # draw a sample of size n\n",
    "  sample = np.random.choice(normal_pop, size = n)\n",
    "  # calculate the sample mean\n",
    "  sample_mean = np.mean(sample)\n",
    "  # append the sample mean to the sample_means list\n",
    "  sample_means.append(sample_mean)\n",
    "# plot the histogram of sample means\n",
    "sns.displot(sample_means, kde = True)\n",
    "plt.title('Distribution of Sample Means for n = ' + str(n))\n",
    "plt.xlabel('sample mean')\n",
    "plt.ylabel('count')\n",
    "plt.show()"
   ]
  },
  {
   "cell_type": "code",
   "execution_count": 82,
   "id": "0ab6f482",
   "metadata": {},
   "outputs": [
    {
     "data": {
      "image/png": "[encoded data removed]",
      "text/plain": [
       "<Figure size 360x360 with 1 Axes>"
      ]
     },
     "metadata": {
      "needs_background": "light"
     },
     "output_type": "display_data"
    }
   ],
   "source": [
    "np.random.seed(1)\n",
    "# set the sample size to 25\n",
    "n = 25\n",
    "# list to store sample means\n",
    "sample_means = []\n",
    "# iterate the loop to draw multiple samples\n",
    "for j in range(100):\n",
    "  # draw a sample of size n\n",
    "  sample = np.random.choice(normal_pop, size = n)\n",
    "  # calculate the sample mean\n",
    "  sample_mean = np.mean(sample)\n",
    "  # append the sample mean to the sample_means list\n",
    "  sample_means.append(sample_mean)\n",
    "# plot the histogram of sample means\n",
    "sns.displot(sample_means, kde = True)\n",
    "plt.title('Distribution of Sample Means for n = ' + str(n))\n",
    "plt.xlabel('sample mean')\n",
    "plt.ylabel('count')\n",
    "plt.show()"
   ]
  },
  {
   "cell_type": "code",
   "execution_count": 83,
   "id": "b7dc81b9",
   "metadata": {},
   "outputs": [
    {
     "data": {
      "image/png": "[encoded data removed]",
      "text/plain": [
       "<Figure size 360x360 with 1 Axes>"
      ]
     },
     "metadata": {
      "needs_background": "light"
     },
     "output_type": "display_data"
    }
   ],
   "source": [
    "np.random.seed(1)\n",
    "# set the sample size to 30\n",
    "n = 30\n",
    "# list to store sample means\n",
    "sample_means = []\n",
    "# iterate the loop to draw multiple samples\n",
    "for j in range(100):\n",
    "  # draw a sample of size n\n",
    "  sample = np.random.choice(normal_pop, size = n)\n",
    "  # calculate the sample mean\n",
    "  sample_mean = np.mean(sample)\n",
    "  # append the sample mean to the sample_means list\n",
    "  sample_means.append(sample_mean)\n",
    "# plot the histogram of sample means\n",
    "sns.displot(sample_means, kde = True)\n",
    "plt.title('Distribution of Sample Means for n = ' + str(n))\n",
    "plt.xlabel('sample mean')\n",
    "plt.ylabel('count')\n",
    "plt.show()"
   ]
  },
  {
   "cell_type": "code",
   "execution_count": null,
   "id": "61d43b24",
   "metadata": {},
   "outputs": [],
   "source": [
    "Let's see if CLT works if the population distribution is Exponential Distribution (which again is clearly not Normal)"
   ]
  },
  {
   "cell_type": "code",
   "execution_count": 86,
   "id": "92bf945b",
   "metadata": {},
   "outputs": [
    {
     "data": {
      "image/png": "[encoded data removed]",
      "text/plain": [
       "<Figure size 432x288 with 1 Axes>"
      ]
     },
     "metadata": {
      "needs_background": "light"
     },
     "output_type": "display_data"
    }
   ],
   "source": [
    "# import the required function\n",
    "from scipy.stats import expon\n",
    "\n",
    "# set the seed for reproducibility\n",
    "np.random.seed(1)\n",
    "# create a exponential distribution population of size 100000\n",
    "exp_pop = expon.rvs(size=100000)\n",
    "# visualize the exponential distribution\n",
    "plt.hist(exp_pop, 100)\n",
    "plt.title(\"Exponential Distribution Population\")\n",
    "plt.xlabel(\"X~Exp(1)\")\n",
    "plt.ylabel(\"Count\")\n",
    "plt.show()"
   ]
  },
  {
   "cell_type": "markdown",
   "id": "803841e5",
   "metadata": {},
   "source": [
    "Solution:\n",
    "We have tried different distributions to simulate the fundamental idea of CLT. \n",
    "We can see that no matter what the shape of the population distribution is, the plot of samples means approximately tends to normal distribution as sample size increases."
   ]
  },
  {
   "cell_type": "markdown",
   "id": "0d12720d",
   "metadata": {},
   "source": [
    "Q14. Treat this dataset as a binomial distribution where p is the probability\n",
    "that a person ordering an EV is above 50 years age. What is the probability\n",
    "that out of a random sample of 10 buyers exactly 6 are above 50 years of\n",
    "age?"
   ]
  },
  {
   "cell_type": "code",
   "execution_count": 103,
   "id": "46392cfb",
   "metadata": {},
   "outputs": [
    {
     "name": "stdout",
     "output_type": "stream",
     "text": [
      "Probability that exactly 6 are above 50 years of age is 0.2508226559999998\n"
     ]
    }
   ],
   "source": [
    "p=0.6\n",
    "n=10\n",
    "k=6\n",
    "binomial = stats.binom.pmf(k,n,p)\n",
    "print('Probability that exactly 6 are above 50 years of age is',binomial )"
   ]
  },
  {
   "cell_type": "markdown",
   "id": "c3b1d372",
   "metadata": {},
   "source": [
    "Q15. A study claims that 10% of all customers for an EV scooter are above 50\n",
    "years of age. Using the Normal approximation of a Binomial distribution, find\n",
    "the probability that in a random sample of 300 prospective customers exactly\n",
    "25 will be above 50 years of age.\n",
    "[ Note that the normal distribution can be used to approximate a binomial\n",
    "distribution if np>=5 and nq>=5 with the following correction for continuity\n",
    "P(X=z) = P(z-0.5 < X < z+0.5 ) ]"
   ]
  },
  {
   "cell_type": "code",
   "execution_count": 114,
   "id": "c24817e7",
   "metadata": {},
   "outputs": [
    {
     "name": "stdout",
     "output_type": "stream",
     "text": [
      "The probability that customers exactly 25 will be above 50 years of age is 0.05\n"
     ]
    }
   ],
   "source": [
    "prob = stats.binom.pmf(k = 25, n = 300, p = 0.10)\n",
    "\n",
    "# use 'round()' to round-off the value to 2 digits\n",
    "prob = round(prob, 2)\n",
    "print('The probability that customers exactly 25 will be above 50 years of age is', prob)"
   ]
  },
  {
   "cell_type": "markdown",
   "id": "3bdb998b",
   "metadata": {},
   "source": [
    "Q16. Compute a 95% Confidence Interval for the true mean age of the\n",
    "population of EV scooter buyers for the dataset using appropriate distribution.(\n",
    "State reasons as to why did you use a z or t distribution)"
   ]
  },
  {
   "cell_type": "code",
   "execution_count": 121,
   "id": "5899ffe0",
   "metadata": {},
   "outputs": [
    {
     "data": {
      "text/plain": [
       "(32.421437024533965, 36.51189630879937)"
      ]
     },
     "execution_count": 121,
     "metadata": {},
     "output_type": "execute_result"
    }
   ],
   "source": [
    "stats.t.interval(alpha=0.95, df=len(age)-1,loc=np.mean(age),scale=1)"
   ]
  },
  {
   "cell_type": "markdown",
   "id": "3b7f1752",
   "metadata": {},
   "source": [
    "If the population standard deviation is known, and the size of the sample is less than or equal to 30, T-test is recommended."
   ]
  },
  {
   "cell_type": "markdown",
   "id": "2bc9c20a",
   "metadata": {},
   "source": [
    "Q17. A data scientist wants to estimate with 95% confidence the proportion of\n",
    "people who own an EV in the population. A recent study showed that 20% of\n",
    "people interviewed had an EV. The data scientist wants to be accurate within\n",
    "2% of the true proportion. Find the minimum sample size necessary."
   ]
  },
  {
   "cell_type": "code",
   "execution_count": 111,
   "id": "6b488757",
   "metadata": {},
   "outputs": [
    {
     "name": "stdout",
     "output_type": "stream",
     "text": [
      "1537\n"
     ]
    }
   ],
   "source": [
    "import scipy.stats\n",
    "# for calculation of Z alpha/2\n",
    "z = scipy.stats.norm.ppf(.025)  #z alpha/2\n",
    "E = 0.02 #E-error\n",
    "P = 0.2 #P-probability of occurance\n",
    "Q = 0.8 #Q=(1-P)\n",
    "n = (z*z*P*Q)/(E*E) #minimum sample size\n",
    "print(round(n))"
   ]
  },
  {
   "cell_type": "markdown",
   "id": "c7be0be5",
   "metadata": {},
   "source": [
    "Solution: The minimum sample size is 1537"
   ]
  },
  {
   "cell_type": "markdown",
   "id": "2b3fb2eb",
   "metadata": {},
   "source": [
    "Q18. The same data scientist wants to estimate the proportion of executives\n",
    "who own an EV. She wants to be 90% confident and accurate within 5% of\n",
    "true proportion. Find the minimum sample size necessary."
   ]
  },
  {
   "cell_type": "code",
   "execution_count": 175,
   "id": "c1205f70",
   "metadata": {},
   "outputs": [
    {
     "name": "stdout",
     "output_type": "stream",
     "text": [
      "271\n"
     ]
    }
   ],
   "source": [
    "import scipy.stats\n",
    "# for calculation of Z alpha/2\n",
    "z = scipy.stats.norm.ppf(.05)  #z alpha/2\n",
    "E = 0.05 #E-error\n",
    "P = 0.5 #P-probability of occurance\n",
    "Q = 0.5 #Q=(1-P)\n",
    "n = (z*z*P*Q)/(E*E) #minimum sample size\n",
    "print(round(n))"
   ]
  },
  {
   "cell_type": "markdown",
   "id": "58a401d3",
   "metadata": {},
   "source": [
    "Solution: The minimum sample size is 271"
   ]
  },
  {
   "cell_type": "markdown",
   "id": "1732de4a",
   "metadata": {},
   "source": [
    "Q19. A researcher claims that currently 20% of the population are owning\n",
    "EVs. Test his claim with an alpha =0.05 if out of a random sample of 30\n",
    "two-wheeler owners only 5 own an EV."
   ]
  },
  {
   "cell_type": "code",
   "execution_count": 58,
   "id": "e412c107",
   "metadata": {},
   "outputs": [],
   "source": [
    "import numpy as np\n",
    "import pandas as pd\n",
    "import math\n",
    "from scipy import stats\n",
    "from scipy.stats import   ttest_1samp"
   ]
  },
  {
   "cell_type": "code",
   "execution_count": 60,
   "id": "ff51494e",
   "metadata": {},
   "outputs": [],
   "source": [
    "n=list(np.arange(1,30))"
   ]
  },
  {
   "cell_type": "code",
   "execution_count": 63,
   "id": "a8a841d1",
   "metadata": {},
   "outputs": [
    {
     "data": {
      "text/plain": [
       "[26, 6, 23, 3, 21]"
      ]
     },
     "execution_count": 63,
     "metadata": {},
     "output_type": "execute_result"
    }
   ],
   "source": [
    "mydata = random.sample(n,5)\n",
    "mydata"
   ]
  },
  {
   "cell_type": "markdown",
   "id": "7e08955e",
   "metadata": {},
   "source": [
    "Step 1: Define null and alternative hypotheses\n"
   ]
  },
  {
   "cell_type": "markdown",
   "id": "149b90f2",
   "metadata": {},
   "source": [
    "𝐻0:  𝜇=20%\n",
    "𝐻𝐴:  𝜇≠20%"
   ]
  },
  {
   "cell_type": "code",
   "execution_count": null,
   "id": "0e0d5a18",
   "metadata": {},
   "outputs": [],
   "source": [
    "Step 2: Decide the significance level"
   ]
  },
  {
   "cell_type": "code",
   "execution_count": null,
   "id": "0bd18aa5",
   "metadata": {},
   "outputs": [],
   "source": [
    "Here we select  𝛼= 0.05"
   ]
  },
  {
   "cell_type": "code",
   "execution_count": 62,
   "id": "e603f753",
   "metadata": {},
   "outputs": [
    {
     "name": "stdout",
     "output_type": "stream",
     "text": [
      "The sample size for this problem is 5\n"
     ]
    }
   ],
   "source": [
    "print(\"The sample size for this problem is\",len(mydata))"
   ]
  },
  {
   "cell_type": "code",
   "execution_count": null,
   "id": "e5a907f1",
   "metadata": {},
   "outputs": [],
   "source": [
    "Step 3: Identify the test statistic"
   ]
  },
  {
   "cell_type": "code",
   "execution_count": null,
   "id": "c922b358",
   "metadata": {},
   "outputs": [],
   "source": [
    "We do not know the population standard deviation and n = 30. So we use the t distribution and the  𝑡𝑆𝑇𝐴𝑇\n",
    "test statistic."
   ]
  },
  {
   "cell_type": "code",
   "execution_count": null,
   "id": "a262b552",
   "metadata": {},
   "outputs": [],
   "source": [
    "Step 4: Calculate the p - value and test statistic"
   ]
  },
  {
   "cell_type": "code",
   "execution_count": null,
   "id": "778fddbd",
   "metadata": {},
   "outputs": [],
   "source": [
    "scipy.stats.ttest_1samp calculates the t test for the mean of one sample given the sample observations \n",
    "and the expected value in the null hypothesis. \n",
    "This function returns t statistic and the two-tailed p value."
   ]
  },
  {
   "cell_type": "code",
   "execution_count": 64,
   "id": "91d464e1",
   "metadata": {},
   "outputs": [
    {
     "name": "stdout",
     "output_type": "stream",
     "text": [
      "One sample t test \n",
      "t statistic: 2.295276167028018 p value: 0.08337128911743683 \n"
     ]
    }
   ],
   "source": [
    "# one sample t-test\n",
    "# null hypothesis: expected value = 5\n",
    "t_statistic, p_value = ttest_1samp(mydata, 5)\n",
    "print('One sample t test \\nt statistic: {0} p value: {1} '.format(t_statistic, p_value))"
   ]
  },
  {
   "cell_type": "code",
   "execution_count": 67,
   "id": "61d53c9b",
   "metadata": {},
   "outputs": [
    {
     "name": "stdout",
     "output_type": "stream",
     "text": [
      "One sample t test \n",
      "t statistic: 2.295276167028018 p value: 0.08337128911743683 \n"
     ]
    }
   ],
   "source": [
    "# one sample t-test\n",
    "# null hypothesis: expected value = 144\n",
    "t_statistic, p_value = ttest_1samp(mydata, 5)\n",
    "print('One sample t test \\nt statistic: {0} p value: {1} '.format(t_statistic, p_value))"
   ]
  },
  {
   "cell_type": "code",
   "execution_count": 68,
   "id": "2f6801d4",
   "metadata": {},
   "outputs": [
    {
     "name": "stdout",
     "output_type": "stream",
     "text": [
      "Level of significance: 0.05\n",
      "We have no evidence to reject the null hypothesis since p value > Level of significance\n",
      "Our one-sample t-test p-value= 0.08337128911743683\n"
     ]
    }
   ],
   "source": [
    "# p_value < 0.05 => alternative hypothesis:\n",
    "\n",
    "alpha_value = 0.05 # Level of significance\n",
    "print('Level of significance: %.2f' %alpha_value)\n",
    "if p_value < alpha_value: \n",
    "    print('We have evidence to reject the null hypothesis since p value < Level of significance')\n",
    "else:\n",
    "    print('We have no evidence to reject the null hypothesis since p value > Level of significance') \n",
    "\n",
    "print (\"Our one-sample t-test p-value=\", p_value)"
   ]
  },
  {
   "cell_type": "markdown",
   "id": "fd343490",
   "metadata": {},
   "source": [
    "In this example, p value is 0.08337128911743683 and it is greater than 5% level of significance\n",
    "\n",
    "So the statistical decision is failing to reject the null hypothesis at 5% level of significance."
   ]
  },
  {
   "cell_type": "markdown",
   "id": "02ffd8a3",
   "metadata": {},
   "source": [
    "Q20. Assume you are working for a Consumer Protection Agency that looks at\n",
    "complaints raised by customers for the transportation industry. Say you have\n",
    "been receiving complaints about the mileage of the latest EV launched by the\n",
    "Zen Automotives. Zen allows you to test randomly 40 of its new EVs to test\n",
    "mileage. Zen claims that the new EVs get a mileage of 96 kmpl on the\n",
    "highway. Your results show a mean of 91.3 kmpl and a standard deviation of\n",
    "14.4.\n",
    "a. Show why you support Zen’s claim using the P-value obtained.\n",
    "b. After more complaints you decide to test the variability of the mileage on\n",
    "the highway. On questioning Zen’s quality control engineer , you find\n",
    "that they are claiming a standard deviation of 7.2. Test the claim about\n",
    "the standard deviation. [Hint :use the Chi-square test for\n",
    "variance/standard deviation]\n",
    "c. Write a summary of results and the action that Zen must take to remedy\n",
    "the complaints.\n",
    "d. What is your position on performing the test for variability along with the\n",
    "test for means?"
   ]
  },
  {
   "cell_type": "code",
   "execution_count": 53,
   "id": "d78910f1",
   "metadata": {},
   "outputs": [
    {
     "data": {
      "text/plain": [
       "array([89.07, 93.53])"
      ]
     },
     "execution_count": 53,
     "metadata": {},
     "output_type": "execute_result"
    }
   ],
   "source": [
    "# import the required function\n",
    "from scipy.stats import norm\n",
    "\n",
    "# set the values of sample mean and sigma\n",
    "x_bar, sigma = 91.3, 7.2\n",
    "\n",
    "# set the value of sample size\n",
    "n = 40\n",
    "\n",
    "# construct the confidence interval\n",
    "np.round(norm.interval(0.95, loc=x_bar, scale=sigma / np.sqrt(n)), 2)"
   ]
  },
  {
   "cell_type": "markdown",
   "id": "304f39b4",
   "metadata": {},
   "source": [
    "STEP-1 - Deciding the hypothesis for testing the hypothesis "
   ]
  },
  {
   "cell_type": "markdown",
   "id": "d12face0",
   "metadata": {},
   "source": [
    "𝐻0:𝜇=96\n",
    " \n",
    "against the alternative hypothesis\n",
    "\n",
    "𝐻𝑎:𝜇≠96"
   ]
  },
  {
   "cell_type": "markdown",
   "id": "e91e425b",
   "metadata": {},
   "source": [
    "STEP-2 - The next step is to find the test statistic"
   ]
  },
  {
   "cell_type": "code",
   "execution_count": 22,
   "id": "e1a468e8",
   "metadata": {},
   "outputs": [
    {
     "data": {
      "text/plain": [
       "22.531228328699704"
      ]
     },
     "execution_count": 22,
     "metadata": {},
     "output_type": "execute_result"
    }
   ],
   "source": [
    "# set the values of population mean and standard deviation to 40 and 14.4 respectively\n",
    "mu, sigma = 40, 14.4\n",
    "\n",
    "# set the value sample mean to 580\n",
    "x_bar = 91.3\n",
    "\n",
    "# calculate the test statistic\n",
    "test_stat = (x_bar - mu) / (sigma/np.sqrt(40))\n",
    "test_stat"
   ]
  },
  {
   "cell_type": "markdown",
   "id": "6f9bcae5",
   "metadata": {},
   "source": [
    "STEP-3 - Let's use the rejection region approach for two-tailed test"
   ]
  },
  {
   "cell_type": "code",
   "execution_count": 50,
   "id": "ee72f30c",
   "metadata": {},
   "outputs": [
    {
     "data": {
      "image/png": "[encoded data removed]",
      "text/plain": [
       "<Figure size 432x288 with 1 Axes>"
      ]
     },
     "metadata": {
      "needs_background": "light"
     },
     "output_type": "display_data"
    }
   ],
   "source": [
    "#TWO TAIL TEST\n",
    "# import the required function\n",
    "from scipy.stats import norm\n",
    "\n",
    "# find the critical values\n",
    "critical_val1 = norm.ppf(1-(0.05/2))\n",
    "critical_val2 = norm.ppf(0.05/2)\n",
    "# plot the rejection and acceptance region\n",
    "# We are plotting the distributions here to better visualize the calculations\n",
    "x = np.linspace(-3, 3, 100) # create an array of 100 numbers starting from -4 and ending at 4\n",
    "plt.plot(x, norm.pdf(x, 0, 1)) # plot the pdf of the normal distribution\n",
    "plt.axvline(x = critical_val1, c = 'r') # draw a vertical red line through the mentioned point\n",
    "x1 = np.linspace(critical_val1, 3, 50) # create an array of 50 numbers starting from the critical value and ending at 4\n",
    "plt.fill_between(x1, norm.pdf(x1, 0, 1), color='r') # fill the area under the curve after the critical value with red color\n",
    "plt.axvline(x = critical_val2, c = 'r') # draw a vertical red line through the mentioned point\n",
    "x1 = np.linspace(-3, critical_val2, 50) # create an array of 50 numbers starting from -4 and ending at the critical value\n",
    "plt.fill_between(x1, norm.pdf(x1, 0, 1), color='r') # fill the area under the curve before the critical value with red color\n",
    "plt.annotate('Reject Null', (2.2, 0.20)) # annotate the mentioned text at the mentioned location\n",
    "plt.annotate('Reject Null', (-3.5, 0.20)) # annotate the mentioned text at the mentioned location\n",
    "plt.annotate('  Do Not Reject\\n      Null', (-1, 0.20)) # annotate the mentioned text at the mentioned location\n",
    "plt.show() # display the plot"
   ]
  },
  {
   "cell_type": "markdown",
   "id": "b98a909c",
   "metadata": {},
   "source": [
    "As our test statistic (22.53) lies in the rejection region, we can reject the null hypothesis. Thus, we have enough statistical evidence"
   ]
  },
  {
   "cell_type": "markdown",
   "id": "e29a86f2",
   "metadata": {},
   "source": [
    "STEP-4 - Deciding the hypothesis for testing the second hypothesis"
   ]
  },
  {
   "cell_type": "markdown",
   "id": "c3a88835",
   "metadata": {},
   "source": [
    "𝐻0:𝜇=96\n",
    "\n",
    "\n",
    "𝐻𝑎:𝜇<96"
   ]
  },
  {
   "cell_type": "markdown",
   "id": "34e83c9b",
   "metadata": {},
   "source": [
    "STEP-5 - Let's use the rejection region approach for one-tailed test\n",
    "In the given example, the Z test statistic follows a standard normal distribution. The Z values lying in the left end of the distribution gives strong evidence against the null hypothesis. To find the rejection region, we will find the value of Z (called critical value) that give an area of  𝛼\n",
    "to both the left end."
   ]
  },
  {
   "cell_type": "code",
   "execution_count": 51,
   "id": "a74757fc",
   "metadata": {},
   "outputs": [
    {
     "data": {
      "image/png": "[encoded data removed]",
      "text/plain": [
       "<Figure size 432x288 with 1 Axes>"
      ]
     },
     "metadata": {
      "needs_background": "light"
     },
     "output_type": "display_data"
    }
   ],
   "source": [
    "#ONE TAIL TEST\n",
    "# import the required function\n",
    "from scipy.stats import norm\n",
    "\n",
    "# find the critical value\n",
    "critical_val = norm.ppf(0.05)\n",
    "\n",
    "# plot the rejection and acceptance region\n",
    "# We are plotting the distributions here to better visualize the calculations\n",
    "x = np.linspace(-3, 3, 100) # create an array of 100 numbers starting from -4 and ending at 4\n",
    "plt.plot(x, norm.pdf(x, 0, 1)) # plot the pdf of the normal distribution\n",
    "plt.axvline(x = critical_val, c = 'r') # draw a vertical red line through the mentioned point\n",
    "x1 = np.linspace(-3, critical_val, 50) # create an array of 50 numbers starting from -4 and ending at the critical value\n",
    "plt.fill_between(x1, norm.pdf(x1, 0, 1), color='r') # fill the area under the curve before the critical value with red color\n",
    "plt.annotate('Reject Null', (-3.5, 0.20)) # annotate the mentioned text at the mentioned location\n",
    "plt.annotate('  Do Not Reject\\n        Null', (-1, 0.20)) # annotate the mentioned text at the mentioned location\n",
    "plt.show() # display the plot"
   ]
  },
  {
   "cell_type": "markdown",
   "id": "e448a73f",
   "metadata": {},
   "source": [
    "As our test statistic (22.53) lies in the rejection region, we can reject the null hypothesis. Thus, we have strong statistical evidence"
   ]
  },
  {
   "cell_type": "markdown",
   "id": "35eefa29",
   "metadata": {},
   "source": [
    "Q21. Write a report comparing and contrasting Descriptive vs Inferential\n",
    "Statistics in about 200-500 words and how each helps to get more insight into\n",
    "the data at hand."
   ]
  },
  {
   "cell_type": "markdown",
   "id": "976b98d1",
   "metadata": {},
   "source": [
    "Descriptive statistics:\n",
    "It seeks to describe the data, but do not attempt to make inferences from the sample to the whole population.\n",
    "It helps us to Summarize, organize and present the data in a meaningful way.\n",
    "statistics that describe the data in some way. \n",
    "Descriptive statistics is the term given to the analysis of data that helps to summarize or show data in a meaningful manner. Descriptive statistics allows for important patterns to emerge from this data.\n",
    "Descriptive statistics is key because it allows us to present large amounts of raw data in a meaningful way. This enables a better interpretation of data. \n",
    "There are usually two types of descriptive statistics:\n",
    "(i) Measures Of Spread\n",
    "Measures of spread describe how spread out the distribution is for a particular group of data. \n",
    "Measures of spread give an idea of the range and variation in a given set of data. \n",
    "This helps develop a better understanding of the nature of the data. \n",
    "Measures of spread include things like variance, standard deviation, range, and quartiles.\n",
    "(ii) Measures Of Central Tendency\n",
    "These are statistical measures that describe the central position of a frequency distribution for a large amount of raw data.\n",
    "These measures include many different statistics such as mean, mode and median.\n",
    "Different measures of central tendency are more appropriate to use under different conditions.\n",
    "\n",
    "Inferential statistics \n",
    "It deals with m aking inferences about a population from a sample.\n",
    "It is used for Conclusion and prediction of data.\n",
    "Inferential statistics are statistical techniques that allow us to use the samples to make generalizations about the population data. \n",
    "A process called sampling is used to make sure the sample chosen represents the population as closely as possible. \n",
    "Inferential statistics are used extensively in data science.\n",
    "\n",
    "Inferential statistics are used because samples cannot represent the population with complete accuracy \n",
    "and analysis on sample data is therefore prone to “sampling error”. \n",
    "Inferential statistics uses two methods. These include:\n",
    "(a) The estimation of the parameters (which are standard parameters like mean, mode, variance, etc.)\n",
    "\n",
    "(b) The testing of the statistical hypothesis"
   ]
  },
  {
   "cell_type": "code",
   "execution_count": null,
   "id": "c8341783",
   "metadata": {},
   "outputs": [],
   "source": []
  }
 ],
 "metadata": {
  "kernelspec": {
   "display_name": "Python 3 (ipykernel)",
   "language": "python",
   "name": "python3"
  },
  "language_info": {
   "codemirror_mode": {
    "name": "ipython",
    "version": 3
   },
   "file_extension": ".py",
   "mimetype": "text/x-python",
   "name": "python",
   "nbconvert_exporter": "python",
   "pygments_lexer": "ipython3",
   "version": "3.9.12"
  }
 },
 "nbformat": 4,
 "nbformat_minor": 5
}
